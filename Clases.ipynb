{
  "nbformat": 4,
  "nbformat_minor": 0,
  "metadata": {
    "colab": {
      "provenance": [],
      "include_colab_link": true
    },
    "kernelspec": {
      "name": "python3",
      "display_name": "Python 3"
    },
    "language_info": {
      "name": "python"
    }
  },
  "cells": [
    {
      "cell_type": "markdown",
      "metadata": {
        "id": "view-in-github",
        "colab_type": "text"
      },
      "source": [
        "<a href=\"https://colab.research.google.com/github/StefanyAlarcon/septiembre-2023/blob/master/Clases.ipynb\" target=\"_parent\"><img src=\"https://colab.research.google.com/assets/colab-badge.svg\" alt=\"Open In Colab\"/></a>"
      ]
    },
    {
      "cell_type": "code",
      "source": [
        "# Visualizar en pantalla\n",
        "print('123.56')"
      ],
      "metadata": {
        "colab": {
          "base_uri": "https://localhost:8080/"
        },
        "id": "LPQaWqQqS5Ey",
        "outputId": "cd237b0b-13f2-4d02-ddb5-e07f2417b6e1"
      },
      "execution_count": null,
      "outputs": [
        {
          "output_type": "stream",
          "name": "stdout",
          "text": [
            "123.56\n"
          ]
        }
      ]
    },
    {
      "cell_type": "code",
      "source": [
        "peso = 50.8\n",
        "nombre = \"Ana\"\n",
        "edad = 30\n",
        "print(nombre,',tu peso es de:',peso,'Kg, y tu edad es de:',edad,'años')"
      ],
      "metadata": {
        "colab": {
          "base_uri": "https://localhost:8080/"
        },
        "id": "2CMdCj06m0-x",
        "outputId": "363b0d9c-d34c-4561-b850-fedd5797175a"
      },
      "execution_count": null,
      "outputs": [
        {
          "output_type": "stream",
          "name": "stdout",
          "text": [
            "Ana ,tu peso es de: 50.8 Kg, y tu edad es de: 30 años\n"
          ]
        }
      ]
    },
    {
      "cell_type": "code",
      "source": [
        "num_uno = 250\n",
        "num_dos = 8\n",
        "suma  = num_uno + num_dos\n",
        "resta = num_uno - num_dos\n",
        "multi = num_uno * num_dos\n",
        "divi  = num_uno / num_dos\n",
        "print('El resultado de la suma es:', suma)\n",
        "print('El resultado de la resta es:', resta)\n",
        "print('El resultado de la multiplicación es:', multi)\n",
        "print('El resultado de la división es:', divi)"
      ],
      "metadata": {
        "colab": {
          "base_uri": "https://localhost:8080/"
        },
        "id": "RB_q1AbzpP4g",
        "outputId": "af337dc8-14b1-4b36-f5fd-b45e76c01179"
      },
      "execution_count": null,
      "outputs": [
        {
          "output_type": "stream",
          "name": "stdout",
          "text": [
            "El resultado de la suma es: 258\n",
            "El resultado de la resta es: 242\n",
            "El resultado de la multiplicación es: 2000\n",
            "El resultado de la división es: 31.25\n"
          ]
        }
      ]
    },
    {
      "cell_type": "code",
      "source": [
        "A = 4 < 3\n",
        "print(A)"
      ],
      "metadata": {
        "id": "M988IDCFuRRO",
        "colab": {
          "base_uri": "https://localhost:8080/"
        },
        "outputId": "8ae1edc8-81cf-4495-a5b3-bef0e13da233"
      },
      "execution_count": null,
      "outputs": [
        {
          "output_type": "stream",
          "name": "stdout",
          "text": [
            "False\n"
          ]
        }
      ]
    },
    {
      "cell_type": "code",
      "source": [
        "# Conversiones\n",
        "# 1. Texto -> Entero                        => int(texto)\n",
        "# 2. Numérico (Enteros, Flotantes) -> Texto => str(número)\n",
        "# 3. Texto -> Flotante                      => float(texto)"
      ],
      "metadata": {
        "id": "-65FFhfMm2DQ"
      },
      "execution_count": null,
      "outputs": []
    },
    {
      "cell_type": "code",
      "source": [
        "# Ingreso de Datos\n",
        "\n",
        "numero_1 = int(input('Ingresa primer número: '))\n",
        "numero_2 = int(input('Ingresa segundo número: '))\n",
        "mult = numero_1 * numero_2\n",
        "print('El resultado es:', mult)"
      ],
      "metadata": {
        "id": "Q757DNGSm2VK",
        "colab": {
          "base_uri": "https://localhost:8080/"
        },
        "outputId": "1cdde6d5-6f83-4dba-9428-a4430dcf74bf"
      },
      "execution_count": null,
      "outputs": [
        {
          "output_type": "stream",
          "name": "stdout",
          "text": [
            "Ingresa primer número: 65\n",
            "Ingresa segundo número: 2\n",
            "El resultado es: 130\n"
          ]
        }
      ]
    },
    {
      "cell_type": "code",
      "source": [
        "# Calcular el área de un triángulo pidiendo al usuario su base y su altura\n",
        "\n",
        "altura = float(input('Ingresa el valor de la altura: '))\n",
        "base   = float(input('Ingresa e valor de la base: '))\n",
        "area   = base*altura/2\n",
        "print('El valor del área del triángulo es:', area)"
      ],
      "metadata": {
        "colab": {
          "base_uri": "https://localhost:8080/"
        },
        "id": "GEoDVIyBjpif",
        "outputId": "874f0623-0668-406d-b235-f83e1ed97e03"
      },
      "execution_count": null,
      "outputs": [
        {
          "output_type": "stream",
          "name": "stdout",
          "text": [
            "Ingresa el valor de la altura: 4.25\n",
            "Ingresa e valor de la base: 1.4\n",
            "El valor del área del triángulo es: 2.9749999999999996\n"
          ]
        }
      ]
    },
    {
      "cell_type": "code",
      "source": [
        "# Condicionales\n",
        "\"\"\"\n",
        "if condicion: (<, >, <=, >=, ==, !=)\n",
        "  operacion1\n",
        "  operacion2\n",
        "else:\n",
        "  operacion3\n",
        "  operacion4\n",
        "\"\"\""
      ],
      "metadata": {
        "id": "j5YtS7fVzcMJ"
      },
      "execution_count": null,
      "outputs": []
    },
    {
      "cell_type": "code",
      "source": [
        "# Calcular el valor final de un artículo. Si el valor llega hasta $100.000 trendá un\n",
        "# descuento del 10%, pero si su valor supera los $100.000 tendrá un descuento del 20%\n",
        "\n",
        "precio = float(input('Ingrese el precio del artículo: '))\n",
        "if precio <= 100000:\n",
        "  dcto = 0.1*precio\n",
        "else:\n",
        "  dcto = 0.2*precio\n",
        "precio_f = precio - dcto\n",
        "print('El precio final del artículo es:', precio_f)"
      ],
      "metadata": {
        "colab": {
          "base_uri": "https://localhost:8080/"
        },
        "id": "T-Drs4hmzcNx",
        "outputId": "16297e4b-8760-4b96-d8f6-36417b53329f"
      },
      "execution_count": null,
      "outputs": [
        {
          "output_type": "stream",
          "name": "stdout",
          "text": [
            "Ingrese el precio del artículo: 200000\n",
            "El precio final del artículo es: 160000.0\n"
          ]
        }
      ]
    },
    {
      "cell_type": "code",
      "source": [
        "\"\"\"\n",
        "Haz una calculadora básica pida al usuario dos valores, a y b.\n",
        "Según la opción que desean, realizar la operación:\n",
        " - Si operación es 1 entonces debemos ver el resultado de a + b\n",
        " - Si operación es 2 entonces debemos ver el resultado de a * b\n",
        " - Si operación es 3 entonces debemos ver el resultado de a - b\n",
        " - Si operación es 4 entonces debemos ver el resultado de a / b\n",
        "\"\"\"\n",
        "\n",
        "a  = float(input('Ingrese primer número: '))\n",
        "b  = float(input('Ingrese segundo número: '))\n",
        "op = int(input('Ingrese la operación a realizar:\\n1. Suma\\n2. Multiplicación\\n3. Resta\\n4. División\\nOpción: '))\n",
        "\n",
        "if op == 1:\n",
        "  resultado = a + b\n",
        "  print('El resultado es:', resultado)\n",
        "elif op == 2:\n",
        "  resultado = a * b\n",
        "  print('El resultado es:', resultado)\n",
        "elif op == 3:\n",
        "  resultado = a - b\n",
        "  print('El resultado es:', resultado)\n",
        "elif op == 4:\n",
        "  if b != 0:\n",
        "    resultado = a / b\n",
        "    print('El resultado es:', resultado)\n",
        "  else:\n",
        "    print('No se puede realizar la operación!')\n",
        "else:\n",
        "  print('Opción no Válida')"
      ],
      "metadata": {
        "colab": {
          "base_uri": "https://localhost:8080/"
        },
        "id": "bAWQ28o_7B1w",
        "outputId": "83cb7d52-60fe-483b-ce9c-11399fd2de32"
      },
      "execution_count": null,
      "outputs": [
        {
          "output_type": "stream",
          "name": "stdout",
          "text": [
            "Ingrese primer número: 20\n",
            "Ingrese segundo número: 0\n",
            "Ingrese la operación a realizar:\n",
            "1. Suma\n",
            "2. Multiplicación\n",
            "3. Resta\n",
            "4. División\n",
            "Opción: 4\n",
            "No se puede realizar la operación!\n"
          ]
        }
      ]
    },
    {
      "cell_type": "code",
      "source": [
        "# Tercer caso\n",
        "\"\"\"\n",
        "if condicion_1:\n",
        "  operacion1\n",
        "  operacion2\n",
        "  if condicion_2:\n",
        "    operacionA\n",
        "    operacionB\n",
        "  else:\n",
        "    operacion3\n",
        "    operacion4\n",
        "else:\n",
        "  operacion5\n",
        "  operacion6\n",
        "\"\"\"\n",
        "a  = float(input('Ingrese primer número: '))\n",
        "b  = float(input('Ingrese segundo número: '))\n",
        "op = int(input('Ingrese la operación a realizar: \\n 1. Suma\\n 2. Multiplicación\\n 3. Resta\\n 4. División \\n Opción:'))\n",
        "\n",
        "if op == 1:\n",
        "  resultado = a + b\n",
        "  print('El resultado es:', resultado)\n",
        "elif op == 2:\n",
        "  resultado = a * b\n",
        "  print('El resultado es:', resultado)\n",
        "elif op == 3:\n",
        "  resultado = a - b\n",
        "  print('El resultado es:', resultado)\n",
        "elif op == 4:\n",
        "  if b != 0:\n",
        "    resultado = a / b\n",
        "    print('El resultado es:', resultado)\n",
        "  else:\n",
        "    print('La división no es posible, ingrese un valor de b diferente de Cero(0)')\n",
        "else:\n",
        "  print('Opción no Válida')"
      ],
      "metadata": {
        "id": "uc4SEmXK7B3Q"
      },
      "execution_count": null,
      "outputs": []
    },
    {
      "cell_type": "code",
      "source": [
        "'''\n",
        "Una empresa que tiene salas de juegos para todas las edades y quiere calcular de forma automática el precio que debe\n",
        "cobrar a sus clientes por entrar. El programa debe preguntar al usuario la edad del cliente y mostrar el precio de la entrada.\n",
        "Si el cliente es menor de 4 años puede entrar gratis, si tiene entre 4 y 17 años debe pagar $5.000 y si es mayor o igual de 18 años,\n",
        "$10.000. Si es mayor de edad y estudiante se hará un descuento del 20%.\n",
        "'''\n",
        "edad = int(input('Ingrese su edad en años: '))\n",
        "if 0 <= edad < 4:\n",
        "  print('Tienes ingreso gratis!')\n",
        "elif edad <= 17:\n",
        "  precio = 5000\n",
        "  print('El valor de tu ingreso es de:', precio)\n",
        "elif edad > 17:\n",
        "  estudiante = input('Eres estudiante? (S/N): ')\n",
        "  precio = 10000\n",
        "  if estudiante == 'S':\n",
        "    precio = 0.8*precio\n",
        "    print('El valor de tu ingreso es de:', precio)\n",
        "  else:\n",
        "    print('El valor de tu ingreso es de:', precio)\n",
        "else:\n",
        "  print('Edad fuera de rango!')"
      ],
      "metadata": {
        "id": "2Lp4sMzy7B5A",
        "colab": {
          "base_uri": "https://localhost:8080/"
        },
        "outputId": "00c6c3d2-1095-4266-bbf4-a9f8fb0fdcc1"
      },
      "execution_count": null,
      "outputs": [
        {
          "output_type": "stream",
          "name": "stdout",
          "text": [
            "Ingrese su edad en años: 30\n",
            "Eres estudiante? (S/N): N\n",
            "El valor de tu ingreso es de: 10000\n"
          ]
        }
      ]
    },
    {
      "cell_type": "code",
      "source": [
        "'''\n",
        "Escriba un programa que calcule el área de un triángulo, un rectángulo o de un círculo.\n",
        "Avisar al usuario si el área calculada supera el valor de 100 m2.\n",
        "\n",
        "Python:\n",
        "- while\n",
        "- for\n",
        "\n",
        "'''"
      ],
      "metadata": {
        "id": "c7TdnJTz7B6R"
      },
      "execution_count": null,
      "outputs": []
    },
    {
      "cell_type": "code",
      "source": [
        "\"\"\"\n",
        "Bucles:\n",
        "\n",
        "*  While\n",
        "\n",
        "Mientras una condición sea verdadera -> Ejecuta mis comandos\n",
        "\n",
        "while condicion(es):\n",
        "  comando_1\n",
        "  comando_2\n",
        "  ...\n",
        "  actualización de la condición\n",
        "comando_i\n",
        "\"\"\""
      ],
      "metadata": {
        "id": "Uc5AZKEyzcPR"
      },
      "execution_count": null,
      "outputs": []
    },
    {
      "cell_type": "code",
      "source": [
        "# Conteo\n",
        "cont = 2\n",
        "while cont <= 20:\n",
        "  print(cont)\n",
        "  cont += 2\n",
        "print('Fin del programa!')\n"
      ],
      "metadata": {
        "id": "IenTYlNCnQ4m"
      },
      "execution_count": null,
      "outputs": []
    },
    {
      "cell_type": "code",
      "source": [
        "# Evento\n",
        "opcion = input('Desea continuar? (S/N): ')\n",
        "while opcion == 'S':\n",
        "  opcion = input('Desea continuar? (S/N): ')\n",
        "print('Fin del programa!')"
      ],
      "metadata": {
        "id": "mNicVb2NnQ6O"
      },
      "execution_count": null,
      "outputs": []
    },
    {
      "cell_type": "code",
      "source": [
        "num = int(input('Ingrese un número: '))\n",
        "while num != 0:\n",
        "  num = int(input('Ingrese un número: '))\n",
        "print('Fin del programa')"
      ],
      "metadata": {
        "id": "eAYUA1ovnQ8H"
      },
      "execution_count": null,
      "outputs": []
    },
    {
      "cell_type": "code",
      "source": [
        "# Calcule el área de un rectángulo o de un triángulo, las veces que yo desee:\n",
        "op = int(input('Ingresa el área que desees calcular:\\n1. Rectángulo\\n2. Triángulo\\n3. Salir\\nOpción: '))\n",
        "while op != 3:\n",
        "  if op == 1:\n",
        "    base = float(input('Ingresa el valor de la base: '))\n",
        "    altura = float(input('Ingresa el valor de la altura: '))\n",
        "    area = base * altura\n",
        "    print('El área del rectángulo es:', area)\n",
        "  elif op == 2:\n",
        "    base = float(input('Ingresa el valor de la base: '))\n",
        "    altura = float(input('Ingresa el valor de la altura: '))\n",
        "    area = (base * altura)/2\n",
        "    print('El área del triángulo es:', area)\n",
        "  else:\n",
        "    print('Opción no válida!!!')\n",
        "  op = int(input('Ingresa el área que desees calcular:\\n1. Rectángulo\\n2. Triángulo\\n3. Salir\\nOpción: '))\n",
        "print('Final del programa!!')"
      ],
      "metadata": {
        "id": "DzHEA1rFnQ_W"
      },
      "execution_count": null,
      "outputs": []
    },
    {
      "cell_type": "code",
      "source": [
        "# Adivina el número entero\n",
        "# 30 -> El número a adivionar es más grande\n",
        "# 70 -> El número a adivionar es más pequeño\n",
        "import random\n",
        "escondido = random.randint(1, 500)\n",
        "cont = 1\n",
        "num = int(input('Adivina el número entre 1 y 500: '))\n",
        "while num != escondido:\n",
        "  if num < escondido:\n",
        "    print('El número a adivinar es todavía más grande!')\n",
        "  else:\n",
        "    print('El número a adivinar es más pequeño!')\n",
        "  cont += 1\n",
        "  num = int(input('Adivina el número entre 1 y 500: '))\n",
        "print('Felicitaciones!!! Adivinaste el número en', cont, 'intentos')"
      ],
      "metadata": {
        "id": "uXk7u-oJuj31"
      },
      "execution_count": null,
      "outputs": []
    },
    {
      "cell_type": "code",
      "source": [
        "# Dejarlo en 10 intentos. A medida que va fallando, le muestre los intentos que le queda!\n",
        "# Y al final: si adivinó que le muestre la cantidad de intentos que tuvo que hacer para adivinar\n",
        "# Si no adivinó: Mensaje de fallo."
      ],
      "metadata": {
        "id": "CNdVGtDPuj7G"
      },
      "execution_count": null,
      "outputs": []
    },
    {
      "cell_type": "code",
      "source": [
        "'''\n",
        "Listas\n",
        "\n",
        "'''"
      ],
      "metadata": {
        "id": "rJDSNl3Uuj8p"
      },
      "execution_count": null,
      "outputs": []
    },
    {
      "cell_type": "code",
      "source": [
        "from datetime import date\n",
        "lista_v = []\n",
        "lista_int = [1, 5, -6, 8, 0, 50368, -463217]\n",
        "lista_dec = [1.2, -3.65, 85.105, -15749.256]\n",
        "lista_num = [1, 5.6, -658, 23.58, -16977.26]\n",
        "lista_str = ['rojo', 'azul', 'verde', 'blanco']\n",
        "lista_bool = [True, False, False, True, True]\n",
        "lista_salpicon = [12, -23.56, 'Pescado', 'Arroz', True, 0, 'victor@gmail', 'Calle 5 # 4 -56']\n",
        "lista_fecha = [date.fromisoformat('2024-05-01')]\n",
        "lista_listas = [[1,2,3], [0.25,-3.5,5.5, [2,4,6]], ['Ana', 'Pedro', 'Sofia'], [True, False, True]]"
      ],
      "metadata": {
        "id": "hkar2jb3uj-d"
      },
      "execution_count": null,
      "outputs": []
    },
    {
      "cell_type": "markdown",
      "source": [
        "## Funciones"
      ],
      "metadata": {
        "id": "sRYn4HSK7K2G"
      }
    },
    {
      "cell_type": "code",
      "source": [
        "# Longitud o tamaño\n",
        "t = len(lista_listas)\n",
        "print(t)"
      ],
      "metadata": {
        "id": "FMvrd3vhukBl",
        "colab": {
          "base_uri": "https://localhost:8080/"
        },
        "outputId": "ec012a24-359e-4b63-8d86-6db41f4cf23d"
      },
      "execution_count": null,
      "outputs": [
        {
          "output_type": "stream",
          "name": "stdout",
          "text": [
            "4\n"
          ]
        }
      ]
    },
    {
      "cell_type": "code",
      "source": [
        "# Acceder a un elemento de una lista\n",
        "nombres = lista_listas[1][3][2]\n",
        "print(nombres)"
      ],
      "metadata": {
        "colab": {
          "base_uri": "https://localhost:8080/"
        },
        "id": "QtsPWOWG7AdO",
        "outputId": "d7cffea5-bb03-4597-d495-adfc263bf953"
      },
      "execution_count": null,
      "outputs": [
        {
          "output_type": "stream",
          "name": "stdout",
          "text": [
            "6\n"
          ]
        }
      ]
    },
    {
      "cell_type": "code",
      "source": [
        "# Cambio de valores\n",
        "print(lista_listas)\n",
        "lista_listas[2][0] = 'Daniela'\n",
        "print(lista_listas)"
      ],
      "metadata": {
        "colab": {
          "base_uri": "https://localhost:8080/"
        },
        "id": "CHDuebXU7AfA",
        "outputId": "a434eae2-4557-4e7a-a72d-caf1633cba54"
      },
      "execution_count": null,
      "outputs": [
        {
          "output_type": "stream",
          "name": "stdout",
          "text": [
            "[[1, 2, 3], [0.25, -3.5, 5.5, [2, 4, 6]], ['Ana', 'Pedro', 'Sofia'], [True, False, True]]\n",
            "[[1, 2, 3], [0.25, -3.5, 5.5, [2, 4, 6]], ['Daniela', 'Pedro', 'Sofia'], [True, False, True]]\n"
          ]
        }
      ]
    },
    {
      "cell_type": "code",
      "source": [
        "# Añadir elementos\n",
        "'''\n",
        "print(lista_str)\n",
        "lista_str.append('Morado')\n",
        "print(lista_str)\n",
        "'''\n",
        "print(lista_str)\n",
        "lista_str.insert(2, 'Amarillo')\n",
        "print(lista_str)"
      ],
      "metadata": {
        "colab": {
          "base_uri": "https://localhost:8080/"
        },
        "id": "xXZyRWSq7Agu",
        "outputId": "2557f875-3442-4f69-b57f-d50d2ca98528"
      },
      "execution_count": null,
      "outputs": [
        {
          "output_type": "stream",
          "name": "stdout",
          "text": [
            "['rojo', 'azul', 'verde', 'blanco']\n",
            "['rojo', 'azul', 'Amarillo', 'verde', 'blanco']\n"
          ]
        }
      ]
    },
    {
      "cell_type": "code",
      "source": [
        "# Suma\n",
        "s = sum(lista_dec)\n",
        "print(s)"
      ],
      "metadata": {
        "colab": {
          "base_uri": "https://localhost:8080/"
        },
        "id": "s3pC72KtFeMF",
        "outputId": "7617a181-e380-4827-da92-8fea0f91064e"
      },
      "execution_count": null,
      "outputs": [
        {
          "output_type": "stream",
          "name": "stdout",
          "text": [
            "-15666.600999999999\n"
          ]
        }
      ]
    },
    {
      "cell_type": "code",
      "source": [
        "# Concatenar\n",
        "print(lista_int)\n",
        "print(lista_dec)\n",
        "lista_concat = lista_int + lista_dec + lista_int\n",
        "print(lista_concat)"
      ],
      "metadata": {
        "colab": {
          "base_uri": "https://localhost:8080/"
        },
        "id": "MhyfLB5EkYS1",
        "outputId": "f3ecfaa1-03f2-4563-8aee-210bd89f7a54"
      },
      "execution_count": null,
      "outputs": [
        {
          "output_type": "stream",
          "name": "stdout",
          "text": [
            "[1, 5, -6, 8, 0, 50368, -463217]\n",
            "[1.2, -3.65, 85.105, -15749.256]\n",
            "[1, 5, -6, 8, 0, 50368, -463217, 1.2, -3.65, 85.105, -15749.256, 1, 5, -6, 8, 0, 50368, -463217]\n"
          ]
        }
      ]
    },
    {
      "cell_type": "code",
      "source": [
        "# Eliminar\n",
        "print(lista_str)\n",
        "lista_str.remove('verde')\n",
        "print(lista_str)"
      ],
      "metadata": {
        "colab": {
          "base_uri": "https://localhost:8080/"
        },
        "id": "yCrjZmVekfsl",
        "outputId": "4d480fc9-6edb-4476-bfbb-4632f86ef922"
      },
      "execution_count": null,
      "outputs": [
        {
          "output_type": "stream",
          "name": "stdout",
          "text": [
            "['rojo', 'azul', 'verde', 'blanco']\n",
            "['rojo', 'azul', 'blanco']\n"
          ]
        }
      ]
    },
    {
      "cell_type": "code",
      "source": [
        "# Verificación de existencia\n",
        "# Forma 1\n",
        "'''\n",
        "color = 'gris'\n",
        "if color in lista_str:\n",
        "  print('Está en la lista')\n",
        "else:\n",
        "  print('No está en la lista')\n",
        "'''\n",
        "# Forma 2\n",
        "#print(lista_str.count('lila'))\n",
        "color = 'lila'\n",
        "if lista_str.count(color) >= 1:\n",
        "  print('Está en la lista')\n",
        "else:\n",
        "  print('No está en la lista')"
      ],
      "metadata": {
        "colab": {
          "base_uri": "https://localhost:8080/"
        },
        "id": "oOy9GUVZkft-",
        "outputId": "b5a326c2-16df-4bc6-8f84-db93ac21a8ec"
      },
      "execution_count": null,
      "outputs": [
        {
          "output_type": "stream",
          "name": "stdout",
          "text": [
            "No está en la lista\n"
          ]
        }
      ]
    },
    {
      "cell_type": "code",
      "source": [
        "# Insertar mediante teclado notas de calificación y al final no debe devolver el promedio de las notas\n",
        "# Condición: Si él ingresa un valor fuera de rango (0 - 5), significa que no ingresará más notas.\n",
        "lista_notas = []\n",
        "nota = float(input('Ingresa la nota: '))\n",
        "  while nota >= 0:\n",
        "    lista_notas.append(nota)\n",
        "    nota = float(input('Ingresa la nota: '))\n",
        "  prom = sum(lista_notas)/len(lista_notas)\n",
        "  print('El promedio de las notas es:', prom)"
      ],
      "metadata": {
        "colab": {
          "base_uri": "https://localhost:8080/"
        },
        "id": "mL7jW1hI7Ah_",
        "outputId": "bb57d62f-e2f2-4dfd-db57-23f63f03d560"
      },
      "execution_count": null,
      "outputs": [
        {
          "output_type": "stream",
          "name": "stdout",
          "text": [
            "Ingresa la nota: 3\n",
            "Ingresa la nota: 2.5\n",
            "Ingresa la nota: 4\n",
            "Ingresa la nota: 1\n",
            "Ingresa la nota: 1.9\n",
            "Ingresa la nota: 48\n",
            "Ingresa la nota: -9\n",
            "El promedio de las notas es: 10.066666666666666\n"
          ]
        }
      ]
    },
    {
      "cell_type": "markdown",
      "source": [
        "Escriba un programa que permita crear una lista de palabras.\n",
        "Para ello, el programa tiene que pedir un número y luego solicitar ese\n",
        "número de palabras para crear la lista (No importa si se repiten).\n",
        "\n",
        "Una vez creada la lista, deberá ofrecerle al usuario 5 opciones:\n",
        "1. Mostrarle las veces que la palabra ingresada por teclado está en la lista.\n",
        "2. Mostrar lista\n",
        "3. Eliminar una palabra ingresada por teclado.\n",
        "4. Añadir una palabra ingresada por teclado.\n",
        "5. Salir"
      ],
      "metadata": {
        "id": "BN5-UAHJp53q"
      }
    },
    {
      "cell_type": "markdown",
      "source": [
        "For"
      ],
      "metadata": {
        "id": "0F5LjVogKRpo"
      }
    },
    {
      "cell_type": "code",
      "source": [
        "for i in range(10, 4, -1):\n",
        "  print(i)"
      ],
      "metadata": {
        "id": "G6uw3a7gDDW9",
        "colab": {
          "base_uri": "https://localhost:8080/"
        },
        "outputId": "657c490a-4a90-4965-e63e-4544c28d8ae9"
      },
      "execution_count": null,
      "outputs": [
        {
          "output_type": "stream",
          "name": "stdout",
          "text": [
            "10\n",
            "9\n",
            "8\n",
            "7\n",
            "6\n",
            "5\n"
          ]
        }
      ]
    },
    {
      "cell_type": "code",
      "source": [
        "for x in [1, 5.6, -658, 23.58, -16977.26]:\n",
        "  print(x+10)"
      ],
      "metadata": {
        "id": "seKTphzAS5Nh",
        "colab": {
          "base_uri": "https://localhost:8080/"
        },
        "outputId": "4ceaec04-3818-4091-94cb-b279f4d089dd"
      },
      "execution_count": null,
      "outputs": [
        {
          "output_type": "stream",
          "name": "stdout",
          "text": [
            "11\n",
            "15.6\n",
            "-648\n",
            "33.58\n",
            "-16967.26\n"
          ]
        }
      ]
    },
    {
      "cell_type": "markdown",
      "source": [
        "### Pandas"
      ],
      "metadata": {
        "id": "-TxWqkS5sz5b"
      }
    },
    {
      "cell_type": "code",
      "source": [
        "# Librerías\n",
        "import pandas as pd\n",
        "import numpy as np\n",
        "import matplotlib.pyplot as plt"
      ],
      "metadata": {
        "id": "SOVzv980r8tc"
      },
      "execution_count": null,
      "outputs": []
    },
    {
      "cell_type": "code",
      "source": [
        "# Dataframe - Csv\n",
        "df_Medellin = pd.read_csv('Medellin.csv')\n",
        "df_Medellin"
      ],
      "metadata": {
        "colab": {
          "base_uri": "https://localhost:8080/",
          "height": 717
        },
        "id": "kHRVa88tr8u0",
        "outputId": "c7ef6c9a-74b2-4cc1-d12e-fc1ce41e7552"
      },
      "execution_count": null,
      "outputs": [
        {
          "output_type": "execute_result",
          "data": {
            "text/plain": [
              "        marca          linea  modelo condición     combustible   color  \\\n",
              "0   Chevrolet           Sail    2016     Usado        Gasolina    Azul   \n",
              "1       Chery           Nice    2012     Usado        Gasolina    Rojo   \n",
              "2   Chevrolet          Optra    2008     Usado        Gasolina    Rojo   \n",
              "3     Renault          Logan    2010     Usado        Gasolina    Gris   \n",
              "4       Volvo            S60    2013     Usado        Gasolina   Negro   \n",
              "5     Renault          Logan    2014     Usado        Gasolina   Negro   \n",
              "6       Skoda        Felicia    1998     Usado        Gasolina  Blanco   \n",
              "7     Renault        Sandero    2012     Usado        Gasolina    Gris   \n",
              "8   Chevrolet  Corsa 2 Ptas.    2004     Usado        Gasolina    Rojo   \n",
              "9   Chevrolet        Captiva    2013     Usado        Gasolina  Blanco   \n",
              "10  Chevrolet  Corsa 4 Ptas.    1998     Usado        Gasolina   Verde   \n",
              "11   Daihatsu         Sirion    2007     Usado        Gasolina   Negro   \n",
              "12       Ford         Fiesta    2014     Usado        Gasolina  Blanco   \n",
              "13  Chevrolet          Optra    2010     Usado        Gasolina   Negro   \n",
              "14    Renault         Duster    2015     Usado  Gasolina y Gas  Blanco   \n",
              "15    Hyundai         Accent    1998     Usado        Gasolina   Verde   \n",
              "16        Kia            Rio    2015     Usado        Gasolina   Beige   \n",
              "17     Nissan         Sentra    1998     Usado        Gasolina    Rojo   \n",
              "18        Kia            Rio    2017     Usado        Gasolina    Gris   \n",
              "\n",
              "   transmisión único_dueño tipo_de_vendedor  kilometraje  puertas    precio  \n",
              "0     Mecánica          No  Persona Natural        50000        4  19200000  \n",
              "1     Mecánica          No  Persona Natural        55000        5  15000000  \n",
              "2     Mecánica          No  Persona Natural       126000        5  15500000  \n",
              "3     Mecánica          No  Persona Natural        53000        4  17400000  \n",
              "4   Automática          Sí  Persona Natural        68000        4  52000000  \n",
              "5     Mecánica          No  Persona Natural        73000        4  19000000  \n",
              "6     Mecánica          No  Persona Natural       155000        5   7000000  \n",
              "7     Mecánica          No  Persona Natural        77481        5  21000000  \n",
              "8     Mecánica          No  Persona Natural       110000        2   9900000  \n",
              "9   Automática          No  Persona Natural        66000        5  28500000  \n",
              "10    Mecánica          No  Persona Natural       210000        4   7900000  \n",
              "11    Mecánica          Sí  Persona Natural       125000        5  14500000  \n",
              "12  Automática          No  Persona Natural        63000        5  30000000  \n",
              "13    Mecánica          No  Persona Natural       118500        5  18500000  \n",
              "14    Mecánica          No  Persona Natural       179000        5  37000000  \n",
              "15    Mecánica          No  Persona Natural        75000        4   7800000  \n",
              "16    Mecánica          No  Persona Natural        74000        5  32500000  \n",
              "17    Mecánica          No  Persona Natural       210000        4  10000000  \n",
              "18    Mecánica          Sí  Persona Natural        22700        4  44000000  "
            ],
            "text/html": [
              "\n",
              "  <div id=\"df-df4e5774-204e-4286-8883-667a38c32e8b\" class=\"colab-df-container\">\n",
              "    <div>\n",
              "<style scoped>\n",
              "    .dataframe tbody tr th:only-of-type {\n",
              "        vertical-align: middle;\n",
              "    }\n",
              "\n",
              "    .dataframe tbody tr th {\n",
              "        vertical-align: top;\n",
              "    }\n",
              "\n",
              "    .dataframe thead th {\n",
              "        text-align: right;\n",
              "    }\n",
              "</style>\n",
              "<table border=\"1\" class=\"dataframe\">\n",
              "  <thead>\n",
              "    <tr style=\"text-align: right;\">\n",
              "      <th></th>\n",
              "      <th>marca</th>\n",
              "      <th>linea</th>\n",
              "      <th>modelo</th>\n",
              "      <th>condición</th>\n",
              "      <th>combustible</th>\n",
              "      <th>color</th>\n",
              "      <th>transmisión</th>\n",
              "      <th>único_dueño</th>\n",
              "      <th>tipo_de_vendedor</th>\n",
              "      <th>kilometraje</th>\n",
              "      <th>puertas</th>\n",
              "      <th>precio</th>\n",
              "    </tr>\n",
              "  </thead>\n",
              "  <tbody>\n",
              "    <tr>\n",
              "      <th>0</th>\n",
              "      <td>Chevrolet</td>\n",
              "      <td>Sail</td>\n",
              "      <td>2016</td>\n",
              "      <td>Usado</td>\n",
              "      <td>Gasolina</td>\n",
              "      <td>Azul</td>\n",
              "      <td>Mecánica</td>\n",
              "      <td>No</td>\n",
              "      <td>Persona Natural</td>\n",
              "      <td>50000</td>\n",
              "      <td>4</td>\n",
              "      <td>19200000</td>\n",
              "    </tr>\n",
              "    <tr>\n",
              "      <th>1</th>\n",
              "      <td>Chery</td>\n",
              "      <td>Nice</td>\n",
              "      <td>2012</td>\n",
              "      <td>Usado</td>\n",
              "      <td>Gasolina</td>\n",
              "      <td>Rojo</td>\n",
              "      <td>Mecánica</td>\n",
              "      <td>No</td>\n",
              "      <td>Persona Natural</td>\n",
              "      <td>55000</td>\n",
              "      <td>5</td>\n",
              "      <td>15000000</td>\n",
              "    </tr>\n",
              "    <tr>\n",
              "      <th>2</th>\n",
              "      <td>Chevrolet</td>\n",
              "      <td>Optra</td>\n",
              "      <td>2008</td>\n",
              "      <td>Usado</td>\n",
              "      <td>Gasolina</td>\n",
              "      <td>Rojo</td>\n",
              "      <td>Mecánica</td>\n",
              "      <td>No</td>\n",
              "      <td>Persona Natural</td>\n",
              "      <td>126000</td>\n",
              "      <td>5</td>\n",
              "      <td>15500000</td>\n",
              "    </tr>\n",
              "    <tr>\n",
              "      <th>3</th>\n",
              "      <td>Renault</td>\n",
              "      <td>Logan</td>\n",
              "      <td>2010</td>\n",
              "      <td>Usado</td>\n",
              "      <td>Gasolina</td>\n",
              "      <td>Gris</td>\n",
              "      <td>Mecánica</td>\n",
              "      <td>No</td>\n",
              "      <td>Persona Natural</td>\n",
              "      <td>53000</td>\n",
              "      <td>4</td>\n",
              "      <td>17400000</td>\n",
              "    </tr>\n",
              "    <tr>\n",
              "      <th>4</th>\n",
              "      <td>Volvo</td>\n",
              "      <td>S60</td>\n",
              "      <td>2013</td>\n",
              "      <td>Usado</td>\n",
              "      <td>Gasolina</td>\n",
              "      <td>Negro</td>\n",
              "      <td>Automática</td>\n",
              "      <td>Sí</td>\n",
              "      <td>Persona Natural</td>\n",
              "      <td>68000</td>\n",
              "      <td>4</td>\n",
              "      <td>52000000</td>\n",
              "    </tr>\n",
              "    <tr>\n",
              "      <th>5</th>\n",
              "      <td>Renault</td>\n",
              "      <td>Logan</td>\n",
              "      <td>2014</td>\n",
              "      <td>Usado</td>\n",
              "      <td>Gasolina</td>\n",
              "      <td>Negro</td>\n",
              "      <td>Mecánica</td>\n",
              "      <td>No</td>\n",
              "      <td>Persona Natural</td>\n",
              "      <td>73000</td>\n",
              "      <td>4</td>\n",
              "      <td>19000000</td>\n",
              "    </tr>\n",
              "    <tr>\n",
              "      <th>6</th>\n",
              "      <td>Skoda</td>\n",
              "      <td>Felicia</td>\n",
              "      <td>1998</td>\n",
              "      <td>Usado</td>\n",
              "      <td>Gasolina</td>\n",
              "      <td>Blanco</td>\n",
              "      <td>Mecánica</td>\n",
              "      <td>No</td>\n",
              "      <td>Persona Natural</td>\n",
              "      <td>155000</td>\n",
              "      <td>5</td>\n",
              "      <td>7000000</td>\n",
              "    </tr>\n",
              "    <tr>\n",
              "      <th>7</th>\n",
              "      <td>Renault</td>\n",
              "      <td>Sandero</td>\n",
              "      <td>2012</td>\n",
              "      <td>Usado</td>\n",
              "      <td>Gasolina</td>\n",
              "      <td>Gris</td>\n",
              "      <td>Mecánica</td>\n",
              "      <td>No</td>\n",
              "      <td>Persona Natural</td>\n",
              "      <td>77481</td>\n",
              "      <td>5</td>\n",
              "      <td>21000000</td>\n",
              "    </tr>\n",
              "    <tr>\n",
              "      <th>8</th>\n",
              "      <td>Chevrolet</td>\n",
              "      <td>Corsa 2 Ptas.</td>\n",
              "      <td>2004</td>\n",
              "      <td>Usado</td>\n",
              "      <td>Gasolina</td>\n",
              "      <td>Rojo</td>\n",
              "      <td>Mecánica</td>\n",
              "      <td>No</td>\n",
              "      <td>Persona Natural</td>\n",
              "      <td>110000</td>\n",
              "      <td>2</td>\n",
              "      <td>9900000</td>\n",
              "    </tr>\n",
              "    <tr>\n",
              "      <th>9</th>\n",
              "      <td>Chevrolet</td>\n",
              "      <td>Captiva</td>\n",
              "      <td>2013</td>\n",
              "      <td>Usado</td>\n",
              "      <td>Gasolina</td>\n",
              "      <td>Blanco</td>\n",
              "      <td>Automática</td>\n",
              "      <td>No</td>\n",
              "      <td>Persona Natural</td>\n",
              "      <td>66000</td>\n",
              "      <td>5</td>\n",
              "      <td>28500000</td>\n",
              "    </tr>\n",
              "    <tr>\n",
              "      <th>10</th>\n",
              "      <td>Chevrolet</td>\n",
              "      <td>Corsa 4 Ptas.</td>\n",
              "      <td>1998</td>\n",
              "      <td>Usado</td>\n",
              "      <td>Gasolina</td>\n",
              "      <td>Verde</td>\n",
              "      <td>Mecánica</td>\n",
              "      <td>No</td>\n",
              "      <td>Persona Natural</td>\n",
              "      <td>210000</td>\n",
              "      <td>4</td>\n",
              "      <td>7900000</td>\n",
              "    </tr>\n",
              "    <tr>\n",
              "      <th>11</th>\n",
              "      <td>Daihatsu</td>\n",
              "      <td>Sirion</td>\n",
              "      <td>2007</td>\n",
              "      <td>Usado</td>\n",
              "      <td>Gasolina</td>\n",
              "      <td>Negro</td>\n",
              "      <td>Mecánica</td>\n",
              "      <td>Sí</td>\n",
              "      <td>Persona Natural</td>\n",
              "      <td>125000</td>\n",
              "      <td>5</td>\n",
              "      <td>14500000</td>\n",
              "    </tr>\n",
              "    <tr>\n",
              "      <th>12</th>\n",
              "      <td>Ford</td>\n",
              "      <td>Fiesta</td>\n",
              "      <td>2014</td>\n",
              "      <td>Usado</td>\n",
              "      <td>Gasolina</td>\n",
              "      <td>Blanco</td>\n",
              "      <td>Automática</td>\n",
              "      <td>No</td>\n",
              "      <td>Persona Natural</td>\n",
              "      <td>63000</td>\n",
              "      <td>5</td>\n",
              "      <td>30000000</td>\n",
              "    </tr>\n",
              "    <tr>\n",
              "      <th>13</th>\n",
              "      <td>Chevrolet</td>\n",
              "      <td>Optra</td>\n",
              "      <td>2010</td>\n",
              "      <td>Usado</td>\n",
              "      <td>Gasolina</td>\n",
              "      <td>Negro</td>\n",
              "      <td>Mecánica</td>\n",
              "      <td>No</td>\n",
              "      <td>Persona Natural</td>\n",
              "      <td>118500</td>\n",
              "      <td>5</td>\n",
              "      <td>18500000</td>\n",
              "    </tr>\n",
              "    <tr>\n",
              "      <th>14</th>\n",
              "      <td>Renault</td>\n",
              "      <td>Duster</td>\n",
              "      <td>2015</td>\n",
              "      <td>Usado</td>\n",
              "      <td>Gasolina y Gas</td>\n",
              "      <td>Blanco</td>\n",
              "      <td>Mecánica</td>\n",
              "      <td>No</td>\n",
              "      <td>Persona Natural</td>\n",
              "      <td>179000</td>\n",
              "      <td>5</td>\n",
              "      <td>37000000</td>\n",
              "    </tr>\n",
              "    <tr>\n",
              "      <th>15</th>\n",
              "      <td>Hyundai</td>\n",
              "      <td>Accent</td>\n",
              "      <td>1998</td>\n",
              "      <td>Usado</td>\n",
              "      <td>Gasolina</td>\n",
              "      <td>Verde</td>\n",
              "      <td>Mecánica</td>\n",
              "      <td>No</td>\n",
              "      <td>Persona Natural</td>\n",
              "      <td>75000</td>\n",
              "      <td>4</td>\n",
              "      <td>7800000</td>\n",
              "    </tr>\n",
              "    <tr>\n",
              "      <th>16</th>\n",
              "      <td>Kia</td>\n",
              "      <td>Rio</td>\n",
              "      <td>2015</td>\n",
              "      <td>Usado</td>\n",
              "      <td>Gasolina</td>\n",
              "      <td>Beige</td>\n",
              "      <td>Mecánica</td>\n",
              "      <td>No</td>\n",
              "      <td>Persona Natural</td>\n",
              "      <td>74000</td>\n",
              "      <td>5</td>\n",
              "      <td>32500000</td>\n",
              "    </tr>\n",
              "    <tr>\n",
              "      <th>17</th>\n",
              "      <td>Nissan</td>\n",
              "      <td>Sentra</td>\n",
              "      <td>1998</td>\n",
              "      <td>Usado</td>\n",
              "      <td>Gasolina</td>\n",
              "      <td>Rojo</td>\n",
              "      <td>Mecánica</td>\n",
              "      <td>No</td>\n",
              "      <td>Persona Natural</td>\n",
              "      <td>210000</td>\n",
              "      <td>4</td>\n",
              "      <td>10000000</td>\n",
              "    </tr>\n",
              "    <tr>\n",
              "      <th>18</th>\n",
              "      <td>Kia</td>\n",
              "      <td>Rio</td>\n",
              "      <td>2017</td>\n",
              "      <td>Usado</td>\n",
              "      <td>Gasolina</td>\n",
              "      <td>Gris</td>\n",
              "      <td>Mecánica</td>\n",
              "      <td>Sí</td>\n",
              "      <td>Persona Natural</td>\n",
              "      <td>22700</td>\n",
              "      <td>4</td>\n",
              "      <td>44000000</td>\n",
              "    </tr>\n",
              "  </tbody>\n",
              "</table>\n",
              "</div>\n",
              "    <div class=\"colab-df-buttons\">\n",
              "\n",
              "  <div class=\"colab-df-container\">\n",
              "    <button class=\"colab-df-convert\" onclick=\"convertToInteractive('df-df4e5774-204e-4286-8883-667a38c32e8b')\"\n",
              "            title=\"Convert this dataframe to an interactive table.\"\n",
              "            style=\"display:none;\">\n",
              "\n",
              "  <svg xmlns=\"http://www.w3.org/2000/svg\" height=\"24px\" viewBox=\"0 -960 960 960\">\n",
              "    <path d=\"M120-120v-720h720v720H120Zm60-500h600v-160H180v160Zm220 220h160v-160H400v160Zm0 220h160v-160H400v160ZM180-400h160v-160H180v160Zm440 0h160v-160H620v160ZM180-180h160v-160H180v160Zm440 0h160v-160H620v160Z\"/>\n",
              "  </svg>\n",
              "    </button>\n",
              "\n",
              "  <style>\n",
              "    .colab-df-container {\n",
              "      display:flex;\n",
              "      gap: 12px;\n",
              "    }\n",
              "\n",
              "    .colab-df-convert {\n",
              "      background-color: #E8F0FE;\n",
              "      border: none;\n",
              "      border-radius: 50%;\n",
              "      cursor: pointer;\n",
              "      display: none;\n",
              "      fill: #1967D2;\n",
              "      height: 32px;\n",
              "      padding: 0 0 0 0;\n",
              "      width: 32px;\n",
              "    }\n",
              "\n",
              "    .colab-df-convert:hover {\n",
              "      background-color: #E2EBFA;\n",
              "      box-shadow: 0px 1px 2px rgba(60, 64, 67, 0.3), 0px 1px 3px 1px rgba(60, 64, 67, 0.15);\n",
              "      fill: #174EA6;\n",
              "    }\n",
              "\n",
              "    .colab-df-buttons div {\n",
              "      margin-bottom: 4px;\n",
              "    }\n",
              "\n",
              "    [theme=dark] .colab-df-convert {\n",
              "      background-color: #3B4455;\n",
              "      fill: #D2E3FC;\n",
              "    }\n",
              "\n",
              "    [theme=dark] .colab-df-convert:hover {\n",
              "      background-color: #434B5C;\n",
              "      box-shadow: 0px 1px 3px 1px rgba(0, 0, 0, 0.15);\n",
              "      filter: drop-shadow(0px 1px 2px rgba(0, 0, 0, 0.3));\n",
              "      fill: #FFFFFF;\n",
              "    }\n",
              "  </style>\n",
              "\n",
              "    <script>\n",
              "      const buttonEl =\n",
              "        document.querySelector('#df-df4e5774-204e-4286-8883-667a38c32e8b button.colab-df-convert');\n",
              "      buttonEl.style.display =\n",
              "        google.colab.kernel.accessAllowed ? 'block' : 'none';\n",
              "\n",
              "      async function convertToInteractive(key) {\n",
              "        const element = document.querySelector('#df-df4e5774-204e-4286-8883-667a38c32e8b');\n",
              "        const dataTable =\n",
              "          await google.colab.kernel.invokeFunction('convertToInteractive',\n",
              "                                                    [key], {});\n",
              "        if (!dataTable) return;\n",
              "\n",
              "        const docLinkHtml = 'Like what you see? Visit the ' +\n",
              "          '<a target=\"_blank\" href=https://colab.research.google.com/notebooks/data_table.ipynb>data table notebook</a>'\n",
              "          + ' to learn more about interactive tables.';\n",
              "        element.innerHTML = '';\n",
              "        dataTable['output_type'] = 'display_data';\n",
              "        await google.colab.output.renderOutput(dataTable, element);\n",
              "        const docLink = document.createElement('div');\n",
              "        docLink.innerHTML = docLinkHtml;\n",
              "        element.appendChild(docLink);\n",
              "      }\n",
              "    </script>\n",
              "  </div>\n",
              "\n",
              "\n",
              "<div id=\"df-af9bb13d-fb17-4788-bec2-ddff68e52ae2\">\n",
              "  <button class=\"colab-df-quickchart\" onclick=\"quickchart('df-af9bb13d-fb17-4788-bec2-ddff68e52ae2')\"\n",
              "            title=\"Suggest charts\"\n",
              "            style=\"display:none;\">\n",
              "\n",
              "<svg xmlns=\"http://www.w3.org/2000/svg\" height=\"24px\"viewBox=\"0 0 24 24\"\n",
              "     width=\"24px\">\n",
              "    <g>\n",
              "        <path d=\"M19 3H5c-1.1 0-2 .9-2 2v14c0 1.1.9 2 2 2h14c1.1 0 2-.9 2-2V5c0-1.1-.9-2-2-2zM9 17H7v-7h2v7zm4 0h-2V7h2v10zm4 0h-2v-4h2v4z\"/>\n",
              "    </g>\n",
              "</svg>\n",
              "  </button>\n",
              "\n",
              "<style>\n",
              "  .colab-df-quickchart {\n",
              "      --bg-color: #E8F0FE;\n",
              "      --fill-color: #1967D2;\n",
              "      --hover-bg-color: #E2EBFA;\n",
              "      --hover-fill-color: #174EA6;\n",
              "      --disabled-fill-color: #AAA;\n",
              "      --disabled-bg-color: #DDD;\n",
              "  }\n",
              "\n",
              "  [theme=dark] .colab-df-quickchart {\n",
              "      --bg-color: #3B4455;\n",
              "      --fill-color: #D2E3FC;\n",
              "      --hover-bg-color: #434B5C;\n",
              "      --hover-fill-color: #FFFFFF;\n",
              "      --disabled-bg-color: #3B4455;\n",
              "      --disabled-fill-color: #666;\n",
              "  }\n",
              "\n",
              "  .colab-df-quickchart {\n",
              "    background-color: var(--bg-color);\n",
              "    border: none;\n",
              "    border-radius: 50%;\n",
              "    cursor: pointer;\n",
              "    display: none;\n",
              "    fill: var(--fill-color);\n",
              "    height: 32px;\n",
              "    padding: 0;\n",
              "    width: 32px;\n",
              "  }\n",
              "\n",
              "  .colab-df-quickchart:hover {\n",
              "    background-color: var(--hover-bg-color);\n",
              "    box-shadow: 0 1px 2px rgba(60, 64, 67, 0.3), 0 1px 3px 1px rgba(60, 64, 67, 0.15);\n",
              "    fill: var(--button-hover-fill-color);\n",
              "  }\n",
              "\n",
              "  .colab-df-quickchart-complete:disabled,\n",
              "  .colab-df-quickchart-complete:disabled:hover {\n",
              "    background-color: var(--disabled-bg-color);\n",
              "    fill: var(--disabled-fill-color);\n",
              "    box-shadow: none;\n",
              "  }\n",
              "\n",
              "  .colab-df-spinner {\n",
              "    border: 2px solid var(--fill-color);\n",
              "    border-color: transparent;\n",
              "    border-bottom-color: var(--fill-color);\n",
              "    animation:\n",
              "      spin 1s steps(1) infinite;\n",
              "  }\n",
              "\n",
              "  @keyframes spin {\n",
              "    0% {\n",
              "      border-color: transparent;\n",
              "      border-bottom-color: var(--fill-color);\n",
              "      border-left-color: var(--fill-color);\n",
              "    }\n",
              "    20% {\n",
              "      border-color: transparent;\n",
              "      border-left-color: var(--fill-color);\n",
              "      border-top-color: var(--fill-color);\n",
              "    }\n",
              "    30% {\n",
              "      border-color: transparent;\n",
              "      border-left-color: var(--fill-color);\n",
              "      border-top-color: var(--fill-color);\n",
              "      border-right-color: var(--fill-color);\n",
              "    }\n",
              "    40% {\n",
              "      border-color: transparent;\n",
              "      border-right-color: var(--fill-color);\n",
              "      border-top-color: var(--fill-color);\n",
              "    }\n",
              "    60% {\n",
              "      border-color: transparent;\n",
              "      border-right-color: var(--fill-color);\n",
              "    }\n",
              "    80% {\n",
              "      border-color: transparent;\n",
              "      border-right-color: var(--fill-color);\n",
              "      border-bottom-color: var(--fill-color);\n",
              "    }\n",
              "    90% {\n",
              "      border-color: transparent;\n",
              "      border-bottom-color: var(--fill-color);\n",
              "    }\n",
              "  }\n",
              "</style>\n",
              "\n",
              "  <script>\n",
              "    async function quickchart(key) {\n",
              "      const quickchartButtonEl =\n",
              "        document.querySelector('#' + key + ' button');\n",
              "      quickchartButtonEl.disabled = true;  // To prevent multiple clicks.\n",
              "      quickchartButtonEl.classList.add('colab-df-spinner');\n",
              "      try {\n",
              "        const charts = await google.colab.kernel.invokeFunction(\n",
              "            'suggestCharts', [key], {});\n",
              "      } catch (error) {\n",
              "        console.error('Error during call to suggestCharts:', error);\n",
              "      }\n",
              "      quickchartButtonEl.classList.remove('colab-df-spinner');\n",
              "      quickchartButtonEl.classList.add('colab-df-quickchart-complete');\n",
              "    }\n",
              "    (() => {\n",
              "      let quickchartButtonEl =\n",
              "        document.querySelector('#df-af9bb13d-fb17-4788-bec2-ddff68e52ae2 button');\n",
              "      quickchartButtonEl.style.display =\n",
              "        google.colab.kernel.accessAllowed ? 'block' : 'none';\n",
              "    })();\n",
              "  </script>\n",
              "</div>\n",
              "\n",
              "  <div id=\"id_03f05485-fd7e-40c2-a8e1-8180d1c4a2df\">\n",
              "    <style>\n",
              "      .colab-df-generate {\n",
              "        background-color: #E8F0FE;\n",
              "        border: none;\n",
              "        border-radius: 50%;\n",
              "        cursor: pointer;\n",
              "        display: none;\n",
              "        fill: #1967D2;\n",
              "        height: 32px;\n",
              "        padding: 0 0 0 0;\n",
              "        width: 32px;\n",
              "      }\n",
              "\n",
              "      .colab-df-generate:hover {\n",
              "        background-color: #E2EBFA;\n",
              "        box-shadow: 0px 1px 2px rgba(60, 64, 67, 0.3), 0px 1px 3px 1px rgba(60, 64, 67, 0.15);\n",
              "        fill: #174EA6;\n",
              "      }\n",
              "\n",
              "      [theme=dark] .colab-df-generate {\n",
              "        background-color: #3B4455;\n",
              "        fill: #D2E3FC;\n",
              "      }\n",
              "\n",
              "      [theme=dark] .colab-df-generate:hover {\n",
              "        background-color: #434B5C;\n",
              "        box-shadow: 0px 1px 3px 1px rgba(0, 0, 0, 0.15);\n",
              "        filter: drop-shadow(0px 1px 2px rgba(0, 0, 0, 0.3));\n",
              "        fill: #FFFFFF;\n",
              "      }\n",
              "    </style>\n",
              "    <button class=\"colab-df-generate\" onclick=\"generateWithVariable('df_Medellin')\"\n",
              "            title=\"Generate code using this dataframe.\"\n",
              "            style=\"display:none;\">\n",
              "\n",
              "  <svg xmlns=\"http://www.w3.org/2000/svg\" height=\"24px\"viewBox=\"0 0 24 24\"\n",
              "       width=\"24px\">\n",
              "    <path d=\"M7,19H8.4L18.45,9,17,7.55,7,17.6ZM5,21V16.75L18.45,3.32a2,2,0,0,1,2.83,0l1.4,1.43a1.91,1.91,0,0,1,.58,1.4,1.91,1.91,0,0,1-.58,1.4L9.25,21ZM18.45,9,17,7.55Zm-12,3A5.31,5.31,0,0,0,4.9,8.1,5.31,5.31,0,0,0,1,6.5,5.31,5.31,0,0,0,4.9,4.9,5.31,5.31,0,0,0,6.5,1,5.31,5.31,0,0,0,8.1,4.9,5.31,5.31,0,0,0,12,6.5,5.46,5.46,0,0,0,6.5,12Z\"/>\n",
              "  </svg>\n",
              "    </button>\n",
              "    <script>\n",
              "      (() => {\n",
              "      const buttonEl =\n",
              "        document.querySelector('#id_03f05485-fd7e-40c2-a8e1-8180d1c4a2df button.colab-df-generate');\n",
              "      buttonEl.style.display =\n",
              "        google.colab.kernel.accessAllowed ? 'block' : 'none';\n",
              "\n",
              "      buttonEl.onclick = () => {\n",
              "        google.colab.notebook.generateWithVariable('df_Medellin');\n",
              "      }\n",
              "      })();\n",
              "    </script>\n",
              "  </div>\n",
              "\n",
              "    </div>\n",
              "  </div>\n"
            ],
            "application/vnd.google.colaboratory.intrinsic+json": {
              "type": "dataframe",
              "variable_name": "df_Medellin",
              "summary": "{\n  \"name\": \"df_Medellin\",\n  \"rows\": 19,\n  \"fields\": [\n    {\n      \"column\": \"marca\",\n      \"properties\": {\n        \"dtype\": \"string\",\n        \"num_unique_values\": 10,\n        \"samples\": [\n          \"Kia\",\n          \"Chery\",\n          \"Daihatsu\"\n        ],\n        \"semantic_type\": \"\",\n        \"description\": \"\"\n      }\n    },\n    {\n      \"column\": \"linea\",\n      \"properties\": {\n        \"dtype\": \"string\",\n        \"num_unique_values\": 16,\n        \"samples\": [\n          \"Sail\",\n          \"Nice\",\n          \"Felicia\"\n        ],\n        \"semantic_type\": \"\",\n        \"description\": \"\"\n      }\n    },\n    {\n      \"column\": \"modelo\",\n      \"properties\": {\n        \"dtype\": \"number\",\n        \"std\": 6,\n        \"min\": 1998,\n        \"max\": 2017,\n        \"num_unique_values\": 11,\n        \"samples\": [\n          2014,\n          2016,\n          2015\n        ],\n        \"semantic_type\": \"\",\n        \"description\": \"\"\n      }\n    },\n    {\n      \"column\": \"condici\\u00f3n\",\n      \"properties\": {\n        \"dtype\": \"category\",\n        \"num_unique_values\": 1,\n        \"samples\": [\n          \"Usado\"\n        ],\n        \"semantic_type\": \"\",\n        \"description\": \"\"\n      }\n    },\n    {\n      \"column\": \"combustible\",\n      \"properties\": {\n        \"dtype\": \"category\",\n        \"num_unique_values\": 2,\n        \"samples\": [\n          \"Gasolina y Gas\"\n        ],\n        \"semantic_type\": \"\",\n        \"description\": \"\"\n      }\n    },\n    {\n      \"column\": \"color\",\n      \"properties\": {\n        \"dtype\": \"category\",\n        \"num_unique_values\": 7,\n        \"samples\": [\n          \"Azul\"\n        ],\n        \"semantic_type\": \"\",\n        \"description\": \"\"\n      }\n    },\n    {\n      \"column\": \"transmisi\\u00f3n\",\n      \"properties\": {\n        \"dtype\": \"category\",\n        \"num_unique_values\": 2,\n        \"samples\": [\n          \"Autom\\u00e1tica\"\n        ],\n        \"semantic_type\": \"\",\n        \"description\": \"\"\n      }\n    },\n    {\n      \"column\": \"\\u00fanico_due\\u00f1o\",\n      \"properties\": {\n        \"dtype\": \"category\",\n        \"num_unique_values\": 2,\n        \"samples\": [\n          \"S\\u00ed\"\n        ],\n        \"semantic_type\": \"\",\n        \"description\": \"\"\n      }\n    },\n    {\n      \"column\": \"tipo_de_vendedor\",\n      \"properties\": {\n        \"dtype\": \"category\",\n        \"num_unique_values\": 1,\n        \"samples\": [\n          \"Persona Natural\"\n        ],\n        \"semantic_type\": \"\",\n        \"description\": \"\"\n      }\n    },\n    {\n      \"column\": \"kilometraje\",\n      \"properties\": {\n        \"dtype\": \"number\",\n        \"std\": 54771,\n        \"min\": 22700,\n        \"max\": 210000,\n        \"num_unique_values\": 18,\n        \"samples\": [\n          50000\n        ],\n        \"semantic_type\": \"\",\n        \"description\": \"\"\n      }\n    },\n    {\n      \"column\": \"puertas\",\n      \"properties\": {\n        \"dtype\": \"number\",\n        \"std\": 0,\n        \"min\": 2,\n        \"max\": 5,\n        \"num_unique_values\": 3,\n        \"samples\": [\n          4\n        ],\n        \"semantic_type\": \"\",\n        \"description\": \"\"\n      }\n    },\n    {\n      \"column\": \"precio\",\n      \"properties\": {\n        \"dtype\": \"number\",\n        \"std\": 12765816,\n        \"min\": 7000000,\n        \"max\": 52000000,\n        \"num_unique_values\": 19,\n        \"samples\": [\n          19200000\n        ],\n        \"semantic_type\": \"\",\n        \"description\": \"\"\n      }\n    }\n  ]\n}"
            }
          },
          "metadata": {},
          "execution_count": 16
        }
      ]
    },
    {
      "cell_type": "code",
      "source": [
        "# Dataframe - Excel\n",
        "df_Data_Excel = pd.read_excel('Data.xlsx')\n",
        "df_Data_Excel"
      ],
      "metadata": {
        "colab": {
          "base_uri": "https://localhost:8080/",
          "height": 363
        },
        "id": "YoTsGumCr8wb",
        "outputId": "16f79fea-7e07-4cc4-b5db-ad2968b05151",
        "collapsed": true
      },
      "execution_count": null,
      "outputs": [
        {
          "output_type": "error",
          "ename": "FileNotFoundError",
          "evalue": "[Errno 2] No such file or directory: 'Data.xlsx'",
          "traceback": [
            "\u001b[0;31m---------------------------------------------------------------------------\u001b[0m",
            "\u001b[0;31mFileNotFoundError\u001b[0m                         Traceback (most recent call last)",
            "\u001b[0;32m<ipython-input-3-191457579f65>\u001b[0m in \u001b[0;36m<cell line: 2>\u001b[0;34m()\u001b[0m\n\u001b[1;32m      1\u001b[0m \u001b[0;31m# Dataframe - Excel\u001b[0m\u001b[0;34m\u001b[0m\u001b[0;34m\u001b[0m\u001b[0m\n\u001b[0;32m----> 2\u001b[0;31m \u001b[0mdf_Data_Excel\u001b[0m \u001b[0;34m=\u001b[0m \u001b[0mpd\u001b[0m\u001b[0;34m.\u001b[0m\u001b[0mread_excel\u001b[0m\u001b[0;34m(\u001b[0m\u001b[0;34m'Data.xlsx'\u001b[0m\u001b[0;34m)\u001b[0m\u001b[0;34m\u001b[0m\u001b[0;34m\u001b[0m\u001b[0m\n\u001b[0m\u001b[1;32m      3\u001b[0m \u001b[0mdf_Data_Excel\u001b[0m\u001b[0;34m\u001b[0m\u001b[0;34m\u001b[0m\u001b[0m\n",
            "\u001b[0;32m/usr/local/lib/python3.10/dist-packages/pandas/io/excel/_base.py\u001b[0m in \u001b[0;36mread_excel\u001b[0;34m(io, sheet_name, header, names, index_col, usecols, dtype, engine, converters, true_values, false_values, skiprows, nrows, na_values, keep_default_na, na_filter, verbose, parse_dates, date_parser, date_format, thousands, decimal, comment, skipfooter, storage_options, dtype_backend)\u001b[0m\n\u001b[1;32m    476\u001b[0m     \u001b[0;32mif\u001b[0m \u001b[0;32mnot\u001b[0m \u001b[0misinstance\u001b[0m\u001b[0;34m(\u001b[0m\u001b[0mio\u001b[0m\u001b[0;34m,\u001b[0m \u001b[0mExcelFile\u001b[0m\u001b[0;34m)\u001b[0m\u001b[0;34m:\u001b[0m\u001b[0;34m\u001b[0m\u001b[0;34m\u001b[0m\u001b[0m\n\u001b[1;32m    477\u001b[0m         \u001b[0mshould_close\u001b[0m \u001b[0;34m=\u001b[0m \u001b[0;32mTrue\u001b[0m\u001b[0;34m\u001b[0m\u001b[0;34m\u001b[0m\u001b[0m\n\u001b[0;32m--> 478\u001b[0;31m         \u001b[0mio\u001b[0m \u001b[0;34m=\u001b[0m \u001b[0mExcelFile\u001b[0m\u001b[0;34m(\u001b[0m\u001b[0mio\u001b[0m\u001b[0;34m,\u001b[0m \u001b[0mstorage_options\u001b[0m\u001b[0;34m=\u001b[0m\u001b[0mstorage_options\u001b[0m\u001b[0;34m,\u001b[0m \u001b[0mengine\u001b[0m\u001b[0;34m=\u001b[0m\u001b[0mengine\u001b[0m\u001b[0;34m)\u001b[0m\u001b[0;34m\u001b[0m\u001b[0;34m\u001b[0m\u001b[0m\n\u001b[0m\u001b[1;32m    479\u001b[0m     \u001b[0;32melif\u001b[0m \u001b[0mengine\u001b[0m \u001b[0;32mand\u001b[0m \u001b[0mengine\u001b[0m \u001b[0;34m!=\u001b[0m \u001b[0mio\u001b[0m\u001b[0;34m.\u001b[0m\u001b[0mengine\u001b[0m\u001b[0;34m:\u001b[0m\u001b[0;34m\u001b[0m\u001b[0;34m\u001b[0m\u001b[0m\n\u001b[1;32m    480\u001b[0m         raise ValueError(\n",
            "\u001b[0;32m/usr/local/lib/python3.10/dist-packages/pandas/io/excel/_base.py\u001b[0m in \u001b[0;36m__init__\u001b[0;34m(self, path_or_buffer, engine, storage_options)\u001b[0m\n\u001b[1;32m   1494\u001b[0m                 \u001b[0mext\u001b[0m \u001b[0;34m=\u001b[0m \u001b[0;34m\"xls\"\u001b[0m\u001b[0;34m\u001b[0m\u001b[0;34m\u001b[0m\u001b[0m\n\u001b[1;32m   1495\u001b[0m             \u001b[0;32melse\u001b[0m\u001b[0;34m:\u001b[0m\u001b[0;34m\u001b[0m\u001b[0;34m\u001b[0m\u001b[0m\n\u001b[0;32m-> 1496\u001b[0;31m                 ext = inspect_excel_format(\n\u001b[0m\u001b[1;32m   1497\u001b[0m                     \u001b[0mcontent_or_path\u001b[0m\u001b[0;34m=\u001b[0m\u001b[0mpath_or_buffer\u001b[0m\u001b[0;34m,\u001b[0m \u001b[0mstorage_options\u001b[0m\u001b[0;34m=\u001b[0m\u001b[0mstorage_options\u001b[0m\u001b[0;34m\u001b[0m\u001b[0;34m\u001b[0m\u001b[0m\n\u001b[1;32m   1498\u001b[0m                 )\n",
            "\u001b[0;32m/usr/local/lib/python3.10/dist-packages/pandas/io/excel/_base.py\u001b[0m in \u001b[0;36minspect_excel_format\u001b[0;34m(content_or_path, storage_options)\u001b[0m\n\u001b[1;32m   1369\u001b[0m         \u001b[0mcontent_or_path\u001b[0m \u001b[0;34m=\u001b[0m \u001b[0mBytesIO\u001b[0m\u001b[0;34m(\u001b[0m\u001b[0mcontent_or_path\u001b[0m\u001b[0;34m)\u001b[0m\u001b[0;34m\u001b[0m\u001b[0;34m\u001b[0m\u001b[0m\n\u001b[1;32m   1370\u001b[0m \u001b[0;34m\u001b[0m\u001b[0m\n\u001b[0;32m-> 1371\u001b[0;31m     with get_handle(\n\u001b[0m\u001b[1;32m   1372\u001b[0m         \u001b[0mcontent_or_path\u001b[0m\u001b[0;34m,\u001b[0m \u001b[0;34m\"rb\"\u001b[0m\u001b[0;34m,\u001b[0m \u001b[0mstorage_options\u001b[0m\u001b[0;34m=\u001b[0m\u001b[0mstorage_options\u001b[0m\u001b[0;34m,\u001b[0m \u001b[0mis_text\u001b[0m\u001b[0;34m=\u001b[0m\u001b[0;32mFalse\u001b[0m\u001b[0;34m\u001b[0m\u001b[0;34m\u001b[0m\u001b[0m\n\u001b[1;32m   1373\u001b[0m     ) as handle:\n",
            "\u001b[0;32m/usr/local/lib/python3.10/dist-packages/pandas/io/common.py\u001b[0m in \u001b[0;36mget_handle\u001b[0;34m(path_or_buf, mode, encoding, compression, memory_map, is_text, errors, storage_options)\u001b[0m\n\u001b[1;32m    866\u001b[0m         \u001b[0;32melse\u001b[0m\u001b[0;34m:\u001b[0m\u001b[0;34m\u001b[0m\u001b[0;34m\u001b[0m\u001b[0m\n\u001b[1;32m    867\u001b[0m             \u001b[0;31m# Binary mode\u001b[0m\u001b[0;34m\u001b[0m\u001b[0;34m\u001b[0m\u001b[0m\n\u001b[0;32m--> 868\u001b[0;31m             \u001b[0mhandle\u001b[0m \u001b[0;34m=\u001b[0m \u001b[0mopen\u001b[0m\u001b[0;34m(\u001b[0m\u001b[0mhandle\u001b[0m\u001b[0;34m,\u001b[0m \u001b[0mioargs\u001b[0m\u001b[0;34m.\u001b[0m\u001b[0mmode\u001b[0m\u001b[0;34m)\u001b[0m\u001b[0;34m\u001b[0m\u001b[0;34m\u001b[0m\u001b[0m\n\u001b[0m\u001b[1;32m    869\u001b[0m         \u001b[0mhandles\u001b[0m\u001b[0;34m.\u001b[0m\u001b[0mappend\u001b[0m\u001b[0;34m(\u001b[0m\u001b[0mhandle\u001b[0m\u001b[0;34m)\u001b[0m\u001b[0;34m\u001b[0m\u001b[0;34m\u001b[0m\u001b[0m\n\u001b[1;32m    870\u001b[0m \u001b[0;34m\u001b[0m\u001b[0m\n",
            "\u001b[0;31mFileNotFoundError\u001b[0m: [Errno 2] No such file or directory: 'Data.xlsx'"
          ]
        }
      ]
    },
    {
      "cell_type": "code",
      "source": [
        "list_columnas = list(df_Medellin.columns)\n",
        "list_columnas"
      ],
      "metadata": {
        "colab": {
          "base_uri": "https://localhost:8080/"
        },
        "id": "tRRBjJ97r8x7",
        "outputId": "77c01347-491d-4b75-d7b7-a70d8eb5d5b7"
      },
      "execution_count": null,
      "outputs": [
        {
          "output_type": "execute_result",
          "data": {
            "text/plain": [
              "['marca',\n",
              " 'linea',\n",
              " 'modelo',\n",
              " 'condición',\n",
              " 'combustible',\n",
              " 'color',\n",
              " 'transmisión',\n",
              " 'único_dueño',\n",
              " 'tipo_de_vendedor',\n",
              " 'kilometraje',\n",
              " 'puertas',\n",
              " 'precio']"
            ]
          },
          "metadata": {},
          "execution_count": 42
        }
      ]
    },
    {
      "cell_type": "code",
      "source": [
        "marcas = list(df_Medellin['puertas'].unique())\n",
        "marcas"
      ],
      "metadata": {
        "colab": {
          "base_uri": "https://localhost:8080/"
        },
        "id": "flJrtKBz24-9",
        "outputId": "41d17c11-c4f1-4bd4-8c87-671ab9fcd4b9"
      },
      "execution_count": null,
      "outputs": [
        {
          "output_type": "execute_result",
          "data": {
            "text/plain": [
              "[4, 5, 2]"
            ]
          },
          "metadata": {},
          "execution_count": 5
        }
      ]
    },
    {
      "cell_type": "code",
      "source": [
        "for x in list_columnas:\n",
        "  print(x, '->', list(df_Medellin[x].unique()))"
      ],
      "metadata": {
        "colab": {
          "base_uri": "https://localhost:8080/"
        },
        "id": "MYmlW6Hd25CK",
        "outputId": "071610ea-5ef4-4527-87a2-3df99a492026"
      },
      "execution_count": null,
      "outputs": [
        {
          "output_type": "stream",
          "name": "stdout",
          "text": [
            "marca -> ['Chevrolet', 'Chery', 'Renault', 'Volvo', 'Skoda', 'Daihatsu', 'Ford', 'Hyundai', 'Kia', 'Nissan']\n",
            "linea -> ['Sail', 'Nice', 'Optra', 'Logan', 'S60', 'Felicia', 'Sandero', 'Corsa 2 Ptas.', 'Captiva', 'Corsa 4 Ptas.', 'Sirion', 'Fiesta', 'Duster', 'Accent', 'Rio', 'Sentra']\n",
            "modelo -> [2016, 2012, 2008, 2010, 2013, 2014, 1998, 2004, 2007, 2015, 2017]\n",
            "condición -> ['Usado']\n",
            "combustible -> ['Gasolina', 'Gasolina y Gas']\n",
            "color -> ['Azul', 'Rojo', 'Gris', 'Negro', 'Blanco', 'Verde', 'Beige']\n",
            "transmisión -> ['Mecánica', 'Automática']\n",
            "único_dueño -> ['No', 'Sí']\n",
            "tipo_de_vendedor -> ['Persona Natural']\n",
            "kilometraje -> [50000, 55000, 126000, 53000, 68000, 73000, 155000, 77481, 110000, 66000, 210000, 125000, 63000, 118500, 179000, 75000, 74000, 22700]\n",
            "puertas -> [4, 5, 2]\n",
            "precio -> [19200000, 15000000, 15500000, 17400000, 52000000, 19000000, 7000000, 21000000, 9900000, 28500000, 7900000, 14500000, 30000000, 18500000, 37000000, 7800000, 32500000, 10000000, 44000000]\n"
          ]
        }
      ]
    },
    {
      "cell_type": "code",
      "source": [
        "# Tipos de datos\n",
        "df_Medellin.info()"
      ],
      "metadata": {
        "colab": {
          "base_uri": "https://localhost:8080/"
        },
        "id": "Cg8Ab54K25GB",
        "outputId": "14b75558-c794-411c-d6cf-e6fa4b32ee15"
      },
      "execution_count": null,
      "outputs": [
        {
          "output_type": "stream",
          "name": "stdout",
          "text": [
            "<class 'pandas.core.frame.DataFrame'>\n",
            "RangeIndex: 19 entries, 0 to 18\n",
            "Data columns (total 12 columns):\n",
            " #   Column            Non-Null Count  Dtype   \n",
            "---  ------            --------------  -----   \n",
            " 0   marca             19 non-null     category\n",
            " 1   linea             19 non-null     category\n",
            " 2   modelo            19 non-null     int64   \n",
            " 3   condición         19 non-null     category\n",
            " 4   combustible       19 non-null     category\n",
            " 5   color             19 non-null     category\n",
            " 6   transmisión       19 non-null     category\n",
            " 7   único_dueño       19 non-null     category\n",
            " 8   tipo_de_vendedor  19 non-null     category\n",
            " 9   kilometraje       19 non-null     int64   \n",
            " 10  puertas           19 non-null     int64   \n",
            " 11  precio            19 non-null     int64   \n",
            "dtypes: category(8), int64(4)\n",
            "memory usage: 2.8 KB\n"
          ]
        }
      ]
    },
    {
      "cell_type": "code",
      "source": [
        "# Cambiar tipo de dato\n",
        "df_Medellin['marca'] = df_Medellin['marca'].astype('category')"
      ],
      "metadata": {
        "id": "2rcDDE41r8z0"
      },
      "execution_count": null,
      "outputs": []
    },
    {
      "cell_type": "code",
      "source": [
        "for col in list_columnas:\n",
        "  if df_Medellin[col].dtype == 'object':\n",
        "    df_Medellin[col] = df_Medellin[col].astype('category')"
      ],
      "metadata": {
        "id": "AnhmFye-87Fe"
      },
      "execution_count": null,
      "outputs": []
    },
    {
      "cell_type": "code",
      "source": [
        "# Conteo por categoría\n",
        "print(df_Medellin['marca'].value_counts())"
      ],
      "metadata": {
        "id": "UjReNIU087HU",
        "colab": {
          "base_uri": "https://localhost:8080/"
        },
        "outputId": "bcda773e-4154-4257-d176-b191a1112a55"
      },
      "execution_count": null,
      "outputs": [
        {
          "output_type": "stream",
          "name": "stdout",
          "text": [
            "marca\n",
            "Chevrolet    6\n",
            "Renault      4\n",
            "Kia          2\n",
            "Chery        1\n",
            "Daihatsu     1\n",
            "Ford         1\n",
            "Hyundai      1\n",
            "Nissan       1\n",
            "Skoda        1\n",
            "Volvo        1\n",
            "Name: count, dtype: int64\n"
          ]
        }
      ]
    },
    {
      "cell_type": "code",
      "source": [
        "list_columnas.remove('kilometraje')\n",
        "list_columnas.remove('precio')\n",
        "\n",
        "for col in list_columnas:\n",
        "  print(df_Medellin[col].value_counts())\n",
        "  print()"
      ],
      "metadata": {
        "id": "tnnCQSnk87JL",
        "colab": {
          "base_uri": "https://localhost:8080/"
        },
        "collapsed": true,
        "outputId": "f8d90f2c-381c-4095-d5f6-f2bc3c2edf64"
      },
      "execution_count": null,
      "outputs": [
        {
          "output_type": "stream",
          "name": "stdout",
          "text": [
            "marca\n",
            "Chevrolet    6\n",
            "Renault      4\n",
            "Kia          2\n",
            "Chery        1\n",
            "Volvo        1\n",
            "Skoda        1\n",
            "Daihatsu     1\n",
            "Ford         1\n",
            "Hyundai      1\n",
            "Nissan       1\n",
            "Name: count, dtype: int64\n",
            "\n",
            "linea\n",
            "Optra            2\n",
            "Logan            2\n",
            "Rio              2\n",
            "Sail             1\n",
            "Nice             1\n",
            "S60              1\n",
            "Felicia          1\n",
            "Sandero          1\n",
            "Corsa 2 Ptas.    1\n",
            "Captiva          1\n",
            "Corsa 4 Ptas.    1\n",
            "Sirion           1\n",
            "Fiesta           1\n",
            "Duster           1\n",
            "Accent           1\n",
            "Sentra           1\n",
            "Name: count, dtype: int64\n",
            "\n",
            "modelo\n",
            "1998    4\n",
            "2012    2\n",
            "2010    2\n",
            "2013    2\n",
            "2014    2\n",
            "2015    2\n",
            "2016    1\n",
            "2008    1\n",
            "2004    1\n",
            "2007    1\n",
            "2017    1\n",
            "Name: count, dtype: int64\n",
            "\n",
            "condición\n",
            "Usado    19\n",
            "Name: count, dtype: int64\n",
            "\n",
            "combustible\n",
            "Gasolina          18\n",
            "Gasolina y Gas     1\n",
            "Name: count, dtype: int64\n",
            "\n",
            "color\n",
            "Rojo      4\n",
            "Negro     4\n",
            "Blanco    4\n",
            "Gris      3\n",
            "Verde     2\n",
            "Azul      1\n",
            "Beige     1\n",
            "Name: count, dtype: int64\n",
            "\n",
            "transmisión\n",
            "Mecánica      16\n",
            "Automática     3\n",
            "Name: count, dtype: int64\n",
            "\n",
            "único_dueño\n",
            "No    16\n",
            "Sí     3\n",
            "Name: count, dtype: int64\n",
            "\n",
            "tipo_de_vendedor\n",
            "Persona Natural    19\n",
            "Name: count, dtype: int64\n",
            "\n",
            "puertas\n",
            "5    10\n",
            "4     8\n",
            "2     1\n",
            "Name: count, dtype: int64\n",
            "\n"
          ]
        }
      ]
    },
    {
      "cell_type": "code",
      "source": [
        "for col in list_columnas:\n",
        "  if col != 'kilometraje' and col != 'precio':\n",
        "    print(df_Medellin[col].value_counts())\n",
        "    print()"
      ],
      "metadata": {
        "colab": {
          "base_uri": "https://localhost:8080/"
        },
        "collapsed": true,
        "id": "RUQq69rPDesG",
        "outputId": "b6f385f6-2c51-4fbb-9e9d-95961cf6952b"
      },
      "execution_count": null,
      "outputs": [
        {
          "output_type": "stream",
          "name": "stdout",
          "text": [
            "marca\n",
            "Chevrolet    6\n",
            "Renault      4\n",
            "Kia          2\n",
            "Chery        1\n",
            "Volvo        1\n",
            "Skoda        1\n",
            "Daihatsu     1\n",
            "Ford         1\n",
            "Hyundai      1\n",
            "Nissan       1\n",
            "Name: count, dtype: int64\n",
            "\n",
            "linea\n",
            "Optra            2\n",
            "Logan            2\n",
            "Rio              2\n",
            "Sail             1\n",
            "Nice             1\n",
            "S60              1\n",
            "Felicia          1\n",
            "Sandero          1\n",
            "Corsa 2 Ptas.    1\n",
            "Captiva          1\n",
            "Corsa 4 Ptas.    1\n",
            "Sirion           1\n",
            "Fiesta           1\n",
            "Duster           1\n",
            "Accent           1\n",
            "Sentra           1\n",
            "Name: count, dtype: int64\n",
            "\n",
            "modelo\n",
            "1998    4\n",
            "2012    2\n",
            "2010    2\n",
            "2013    2\n",
            "2014    2\n",
            "2015    2\n",
            "2016    1\n",
            "2008    1\n",
            "2004    1\n",
            "2007    1\n",
            "2017    1\n",
            "Name: count, dtype: int64\n",
            "\n",
            "condición\n",
            "Usado    19\n",
            "Name: count, dtype: int64\n",
            "\n",
            "combustible\n",
            "Gasolina          18\n",
            "Gasolina y Gas     1\n",
            "Name: count, dtype: int64\n",
            "\n",
            "color\n",
            "Rojo      4\n",
            "Negro     4\n",
            "Blanco    4\n",
            "Gris      3\n",
            "Verde     2\n",
            "Azul      1\n",
            "Beige     1\n",
            "Name: count, dtype: int64\n",
            "\n",
            "transmisión\n",
            "Mecánica      16\n",
            "Automática     3\n",
            "Name: count, dtype: int64\n",
            "\n",
            "único_dueño\n",
            "No    16\n",
            "Sí     3\n",
            "Name: count, dtype: int64\n",
            "\n",
            "tipo_de_vendedor\n",
            "Persona Natural    19\n",
            "Name: count, dtype: int64\n",
            "\n",
            "puertas\n",
            "5    10\n",
            "4     8\n",
            "2     1\n",
            "Name: count, dtype: int64\n",
            "\n"
          ]
        }
      ]
    },
    {
      "cell_type": "code",
      "source": [
        "# Filtrado\n",
        "df_color = df_Medellin[(df_Medellin['kilometraje'] < 100000) & (df_Medellin['marca'] == 'Chevrolet') & (df_Medellin['precio'] < 25000000)]\n",
        "df_color"
      ],
      "metadata": {
        "colab": {
          "base_uri": "https://localhost:8080/",
          "height": 109
        },
        "id": "hQb6P4iMDet2",
        "outputId": "f3b77046-9b6a-452e-f1ca-6c9d34280752"
      },
      "execution_count": null,
      "outputs": [
        {
          "output_type": "execute_result",
          "data": {
            "text/plain": [
              "       marca linea  modelo condición combustible color transmisión  \\\n",
              "0  Chevrolet  Sail    2016     Usado    Gasolina  Azul    Mecánica   \n",
              "\n",
              "  único_dueño tipo_de_vendedor  kilometraje  puertas    precio  \n",
              "0          No  Persona Natural        50000        4  19200000  "
            ],
            "text/html": [
              "\n",
              "  <div id=\"df-584b8ec7-2278-4ca8-82ca-ebb8f02181f8\" class=\"colab-df-container\">\n",
              "    <div>\n",
              "<style scoped>\n",
              "    .dataframe tbody tr th:only-of-type {\n",
              "        vertical-align: middle;\n",
              "    }\n",
              "\n",
              "    .dataframe tbody tr th {\n",
              "        vertical-align: top;\n",
              "    }\n",
              "\n",
              "    .dataframe thead th {\n",
              "        text-align: right;\n",
              "    }\n",
              "</style>\n",
              "<table border=\"1\" class=\"dataframe\">\n",
              "  <thead>\n",
              "    <tr style=\"text-align: right;\">\n",
              "      <th></th>\n",
              "      <th>marca</th>\n",
              "      <th>linea</th>\n",
              "      <th>modelo</th>\n",
              "      <th>condición</th>\n",
              "      <th>combustible</th>\n",
              "      <th>color</th>\n",
              "      <th>transmisión</th>\n",
              "      <th>único_dueño</th>\n",
              "      <th>tipo_de_vendedor</th>\n",
              "      <th>kilometraje</th>\n",
              "      <th>puertas</th>\n",
              "      <th>precio</th>\n",
              "    </tr>\n",
              "  </thead>\n",
              "  <tbody>\n",
              "    <tr>\n",
              "      <th>0</th>\n",
              "      <td>Chevrolet</td>\n",
              "      <td>Sail</td>\n",
              "      <td>2016</td>\n",
              "      <td>Usado</td>\n",
              "      <td>Gasolina</td>\n",
              "      <td>Azul</td>\n",
              "      <td>Mecánica</td>\n",
              "      <td>No</td>\n",
              "      <td>Persona Natural</td>\n",
              "      <td>50000</td>\n",
              "      <td>4</td>\n",
              "      <td>19200000</td>\n",
              "    </tr>\n",
              "  </tbody>\n",
              "</table>\n",
              "</div>\n",
              "    <div class=\"colab-df-buttons\">\n",
              "\n",
              "  <div class=\"colab-df-container\">\n",
              "    <button class=\"colab-df-convert\" onclick=\"convertToInteractive('df-584b8ec7-2278-4ca8-82ca-ebb8f02181f8')\"\n",
              "            title=\"Convert this dataframe to an interactive table.\"\n",
              "            style=\"display:none;\">\n",
              "\n",
              "  <svg xmlns=\"http://www.w3.org/2000/svg\" height=\"24px\" viewBox=\"0 -960 960 960\">\n",
              "    <path d=\"M120-120v-720h720v720H120Zm60-500h600v-160H180v160Zm220 220h160v-160H400v160Zm0 220h160v-160H400v160ZM180-400h160v-160H180v160Zm440 0h160v-160H620v160ZM180-180h160v-160H180v160Zm440 0h160v-160H620v160Z\"/>\n",
              "  </svg>\n",
              "    </button>\n",
              "\n",
              "  <style>\n",
              "    .colab-df-container {\n",
              "      display:flex;\n",
              "      gap: 12px;\n",
              "    }\n",
              "\n",
              "    .colab-df-convert {\n",
              "      background-color: #E8F0FE;\n",
              "      border: none;\n",
              "      border-radius: 50%;\n",
              "      cursor: pointer;\n",
              "      display: none;\n",
              "      fill: #1967D2;\n",
              "      height: 32px;\n",
              "      padding: 0 0 0 0;\n",
              "      width: 32px;\n",
              "    }\n",
              "\n",
              "    .colab-df-convert:hover {\n",
              "      background-color: #E2EBFA;\n",
              "      box-shadow: 0px 1px 2px rgba(60, 64, 67, 0.3), 0px 1px 3px 1px rgba(60, 64, 67, 0.15);\n",
              "      fill: #174EA6;\n",
              "    }\n",
              "\n",
              "    .colab-df-buttons div {\n",
              "      margin-bottom: 4px;\n",
              "    }\n",
              "\n",
              "    [theme=dark] .colab-df-convert {\n",
              "      background-color: #3B4455;\n",
              "      fill: #D2E3FC;\n",
              "    }\n",
              "\n",
              "    [theme=dark] .colab-df-convert:hover {\n",
              "      background-color: #434B5C;\n",
              "      box-shadow: 0px 1px 3px 1px rgba(0, 0, 0, 0.15);\n",
              "      filter: drop-shadow(0px 1px 2px rgba(0, 0, 0, 0.3));\n",
              "      fill: #FFFFFF;\n",
              "    }\n",
              "  </style>\n",
              "\n",
              "    <script>\n",
              "      const buttonEl =\n",
              "        document.querySelector('#df-584b8ec7-2278-4ca8-82ca-ebb8f02181f8 button.colab-df-convert');\n",
              "      buttonEl.style.display =\n",
              "        google.colab.kernel.accessAllowed ? 'block' : 'none';\n",
              "\n",
              "      async function convertToInteractive(key) {\n",
              "        const element = document.querySelector('#df-584b8ec7-2278-4ca8-82ca-ebb8f02181f8');\n",
              "        const dataTable =\n",
              "          await google.colab.kernel.invokeFunction('convertToInteractive',\n",
              "                                                    [key], {});\n",
              "        if (!dataTable) return;\n",
              "\n",
              "        const docLinkHtml = 'Like what you see? Visit the ' +\n",
              "          '<a target=\"_blank\" href=https://colab.research.google.com/notebooks/data_table.ipynb>data table notebook</a>'\n",
              "          + ' to learn more about interactive tables.';\n",
              "        element.innerHTML = '';\n",
              "        dataTable['output_type'] = 'display_data';\n",
              "        await google.colab.output.renderOutput(dataTable, element);\n",
              "        const docLink = document.createElement('div');\n",
              "        docLink.innerHTML = docLinkHtml;\n",
              "        element.appendChild(docLink);\n",
              "      }\n",
              "    </script>\n",
              "  </div>\n",
              "\n",
              "\n",
              "  <div id=\"id_eda2a93d-a89f-4916-9e65-3376271fbdc9\">\n",
              "    <style>\n",
              "      .colab-df-generate {\n",
              "        background-color: #E8F0FE;\n",
              "        border: none;\n",
              "        border-radius: 50%;\n",
              "        cursor: pointer;\n",
              "        display: none;\n",
              "        fill: #1967D2;\n",
              "        height: 32px;\n",
              "        padding: 0 0 0 0;\n",
              "        width: 32px;\n",
              "      }\n",
              "\n",
              "      .colab-df-generate:hover {\n",
              "        background-color: #E2EBFA;\n",
              "        box-shadow: 0px 1px 2px rgba(60, 64, 67, 0.3), 0px 1px 3px 1px rgba(60, 64, 67, 0.15);\n",
              "        fill: #174EA6;\n",
              "      }\n",
              "\n",
              "      [theme=dark] .colab-df-generate {\n",
              "        background-color: #3B4455;\n",
              "        fill: #D2E3FC;\n",
              "      }\n",
              "\n",
              "      [theme=dark] .colab-df-generate:hover {\n",
              "        background-color: #434B5C;\n",
              "        box-shadow: 0px 1px 3px 1px rgba(0, 0, 0, 0.15);\n",
              "        filter: drop-shadow(0px 1px 2px rgba(0, 0, 0, 0.3));\n",
              "        fill: #FFFFFF;\n",
              "      }\n",
              "    </style>\n",
              "    <button class=\"colab-df-generate\" onclick=\"generateWithVariable('df_color')\"\n",
              "            title=\"Generate code using this dataframe.\"\n",
              "            style=\"display:none;\">\n",
              "\n",
              "  <svg xmlns=\"http://www.w3.org/2000/svg\" height=\"24px\"viewBox=\"0 0 24 24\"\n",
              "       width=\"24px\">\n",
              "    <path d=\"M7,19H8.4L18.45,9,17,7.55,7,17.6ZM5,21V16.75L18.45,3.32a2,2,0,0,1,2.83,0l1.4,1.43a1.91,1.91,0,0,1,.58,1.4,1.91,1.91,0,0,1-.58,1.4L9.25,21ZM18.45,9,17,7.55Zm-12,3A5.31,5.31,0,0,0,4.9,8.1,5.31,5.31,0,0,0,1,6.5,5.31,5.31,0,0,0,4.9,4.9,5.31,5.31,0,0,0,6.5,1,5.31,5.31,0,0,0,8.1,4.9,5.31,5.31,0,0,0,12,6.5,5.46,5.46,0,0,0,6.5,12Z\"/>\n",
              "  </svg>\n",
              "    </button>\n",
              "    <script>\n",
              "      (() => {\n",
              "      const buttonEl =\n",
              "        document.querySelector('#id_eda2a93d-a89f-4916-9e65-3376271fbdc9 button.colab-df-generate');\n",
              "      buttonEl.style.display =\n",
              "        google.colab.kernel.accessAllowed ? 'block' : 'none';\n",
              "\n",
              "      buttonEl.onclick = () => {\n",
              "        google.colab.notebook.generateWithVariable('df_color');\n",
              "      }\n",
              "      })();\n",
              "    </script>\n",
              "  </div>\n",
              "\n",
              "    </div>\n",
              "  </div>\n"
            ],
            "application/vnd.google.colaboratory.intrinsic+json": {
              "type": "dataframe",
              "variable_name": "df_color",
              "summary": "{\n  \"name\": \"df_color\",\n  \"rows\": 1,\n  \"fields\": [\n    {\n      \"column\": \"marca\",\n      \"properties\": {\n        \"dtype\": \"string\",\n        \"num_unique_values\": 1,\n        \"samples\": [\n          \"Chevrolet\"\n        ],\n        \"semantic_type\": \"\",\n        \"description\": \"\"\n      }\n    },\n    {\n      \"column\": \"linea\",\n      \"properties\": {\n        \"dtype\": \"string\",\n        \"num_unique_values\": 1,\n        \"samples\": [\n          \"Sail\"\n        ],\n        \"semantic_type\": \"\",\n        \"description\": \"\"\n      }\n    },\n    {\n      \"column\": \"modelo\",\n      \"properties\": {\n        \"dtype\": \"number\",\n        \"std\": null,\n        \"min\": 2016,\n        \"max\": 2016,\n        \"num_unique_values\": 1,\n        \"samples\": [\n          2016\n        ],\n        \"semantic_type\": \"\",\n        \"description\": \"\"\n      }\n    },\n    {\n      \"column\": \"condici\\u00f3n\",\n      \"properties\": {\n        \"dtype\": \"string\",\n        \"num_unique_values\": 1,\n        \"samples\": [\n          \"Usado\"\n        ],\n        \"semantic_type\": \"\",\n        \"description\": \"\"\n      }\n    },\n    {\n      \"column\": \"combustible\",\n      \"properties\": {\n        \"dtype\": \"string\",\n        \"num_unique_values\": 1,\n        \"samples\": [\n          \"Gasolina\"\n        ],\n        \"semantic_type\": \"\",\n        \"description\": \"\"\n      }\n    },\n    {\n      \"column\": \"color\",\n      \"properties\": {\n        \"dtype\": \"string\",\n        \"num_unique_values\": 1,\n        \"samples\": [\n          \"Azul\"\n        ],\n        \"semantic_type\": \"\",\n        \"description\": \"\"\n      }\n    },\n    {\n      \"column\": \"transmisi\\u00f3n\",\n      \"properties\": {\n        \"dtype\": \"string\",\n        \"num_unique_values\": 1,\n        \"samples\": [\n          \"Mec\\u00e1nica\"\n        ],\n        \"semantic_type\": \"\",\n        \"description\": \"\"\n      }\n    },\n    {\n      \"column\": \"\\u00fanico_due\\u00f1o\",\n      \"properties\": {\n        \"dtype\": \"string\",\n        \"num_unique_values\": 1,\n        \"samples\": [\n          \"No\"\n        ],\n        \"semantic_type\": \"\",\n        \"description\": \"\"\n      }\n    },\n    {\n      \"column\": \"tipo_de_vendedor\",\n      \"properties\": {\n        \"dtype\": \"string\",\n        \"num_unique_values\": 1,\n        \"samples\": [\n          \"Persona Natural\"\n        ],\n        \"semantic_type\": \"\",\n        \"description\": \"\"\n      }\n    },\n    {\n      \"column\": \"kilometraje\",\n      \"properties\": {\n        \"dtype\": \"number\",\n        \"std\": null,\n        \"min\": 50000,\n        \"max\": 50000,\n        \"num_unique_values\": 1,\n        \"samples\": [\n          50000\n        ],\n        \"semantic_type\": \"\",\n        \"description\": \"\"\n      }\n    },\n    {\n      \"column\": \"puertas\",\n      \"properties\": {\n        \"dtype\": \"number\",\n        \"std\": null,\n        \"min\": 4,\n        \"max\": 4,\n        \"num_unique_values\": 1,\n        \"samples\": [\n          4\n        ],\n        \"semantic_type\": \"\",\n        \"description\": \"\"\n      }\n    },\n    {\n      \"column\": \"precio\",\n      \"properties\": {\n        \"dtype\": \"number\",\n        \"std\": null,\n        \"min\": 19200000,\n        \"max\": 19200000,\n        \"num_unique_values\": 1,\n        \"samples\": [\n          19200000\n        ],\n        \"semantic_type\": \"\",\n        \"description\": \"\"\n      }\n    }\n  ]\n}"
            }
          },
          "metadata": {},
          "execution_count": 49
        }
      ]
    },
    {
      "cell_type": "markdown",
      "source": [
        "## Gráficas"
      ],
      "metadata": {
        "id": "N8mz7hw_WPx2"
      }
    },
    {
      "cell_type": "code",
      "source": [
        "import matplotlib.pyplot as plt\n",
        "import numpy as np"
      ],
      "metadata": {
        "id": "Hn1j78DMXXul"
      },
      "execution_count": null,
      "outputs": []
    },
    {
      "cell_type": "code",
      "source": [
        "# Gráficas lineales\n",
        "eje_x = [1, 2, 3, 4, 5, 6, 7, 8, 9, 10]\n",
        "eje_y = [1, 4, 9, 16, 25, 36, 49, 64, 81, 100]\n",
        "eje_z = [1, 4, 6, 8, 10, 12, 14, 16, 18, 20]\n",
        "\n",
        "plt.plot(eje_x, eje_y, 'b')\n",
        "plt.plot(eje_x, eje_z, 'r')\n",
        "plt.title('Desplazamiento Vs Tiempo', size = 15)\n",
        "plt.xlabel('Tiempo', size = 10)\n",
        "plt.ylabel('Desplazamiento', size = 10)\n",
        "plt.grid()\n",
        "plt.show()"
      ],
      "metadata": {
        "colab": {
          "base_uri": "https://localhost:8080/",
          "height": 474
        },
        "id": "Xpf49tf9Devo",
        "outputId": "c653b931-6810-4de5-a060-774ebc74e108"
      },
      "execution_count": null,
      "outputs": [
        {
          "output_type": "display_data",
          "data": {
            "text/plain": [
              "<Figure size 640x480 with 1 Axes>"
            ],
            "image/png": "[encoded data removed]"
          },
          "metadata": {}
        }
      ]
    },
    {
      "cell_type": "code",
      "source": [
        "x = np.linspace(0, 4*np.pi, 100)\n",
        "sen = np.sin(x)\n",
        "cos = np.cos(x)\n",
        "plt.plot(x, sen, 'r*', label= 'Seno')\n",
        "plt.plot(x, cos, 'k--', label= 'Coseno')\n",
        "plt.title('Seno y Coseno')\n",
        "plt.xlabel('Eje X')\n",
        "plt.ylabel('Eje Y')\n",
        "plt.xticks(rotation=0, fontsize=10)\n",
        "plt.yticks(rotation=30, fontsize=10)\n",
        "#plt.xlim(0, np.pi)\n",
        "#plt.ylim(0.5, 1)\n",
        "plt.legend(title= 'Gráficas', loc='upper center')\n",
        "plt.grid()\n",
        "plt.savefig('graficas')\n",
        "plt.show()"
      ],
      "metadata": {
        "id": "Y5Go75EFDexH",
        "colab": {
          "base_uri": "https://localhost:8080/",
          "height": 467
        },
        "outputId": "d26a7f4c-26c7-4e8e-c279-de3b3c672522"
      },
      "execution_count": null,
      "outputs": [
        {
          "output_type": "display_data",
          "data": {
            "text/plain": [
              "<Figure size 640x480 with 1 Axes>"
            ],
            "image/png": "[encoded data removed]"
          },
          "metadata": {}
        }
      ]
    },
    {
      "cell_type": "code",
      "source": [
        "# Tortas\n",
        "kilometros = [3.2, 4.5, 2.8, 5, 6.8, 12.2, 1.5]\n",
        "dias = ['Lunes', 'Martes', 'Miércoles', 'Jueves', 'Viernes', 'Sábado', 'Domingo']\n",
        "colores = ['gainsboro', 'dimgray', 'dimgrey', 'azure', 'teal', 'cyan', 'darkgrey']\n",
        "separacion = [0, 0.2, 0, 0, 0.1, 0, 0]\n",
        "plt.style.use('classic')\n",
        "plt.pie(kilometros, labels=dias, colors=colores, autopct='%1.2f%%', shadow=False, explode=separacion)\n",
        "plt.title('Recorrido Semanal')\n",
        "plt.legend(title='Días', loc='center left', bbox_to_anchor=(1.2, 0.5))\n",
        "plt.show()"
      ],
      "metadata": {
        "colab": {
          "base_uri": "https://localhost:8080/",
          "height": 434
        },
        "id": "ED3oog9VXz8t",
        "outputId": "f15080a2-29f0-4c7a-8588-cb6573561763"
      },
      "execution_count": null,
      "outputs": [
        {
          "output_type": "display_data",
          "data": {
            "text/plain": [
              "<Figure size 640x480 with 1 Axes>"
            ],
            "image/png": "[encoded data removed]"
          },
          "metadata": {}
        }
      ]
    },
    {
      "cell_type": "markdown",
      "source": [
        "## Subplots"
      ],
      "metadata": {
        "id": "_96ZhIHFyXsC"
      }
    },
    {
      "cell_type": "code",
      "source": [
        "# Generar los listados\n",
        "x = np.linspace(0, 4*np.pi, 100)\n",
        "sen = np.sin(x)\n",
        "cos = np.cos(x)\n",
        "tan = np.tan(x)\n",
        "expo = np.exp(x)"
      ],
      "metadata": {
        "id": "yVYUvWbKXz-e"
      },
      "execution_count": null,
      "outputs": []
    },
    {
      "cell_type": "code",
      "source": [
        "# Creamos el espacio con la cuadrícula\n",
        "plt.subplot(4, 1, 1)\n",
        "plt.plot(x, sen, 'r')\n",
        "plt.title('Seno')\n",
        "\n",
        "plt.subplot(4, 1, 4)\n",
        "plt.plot(x, cos)\n",
        "plt.title('Coseno')\n",
        "\n",
        "plt.subplot(4, 1, 3)\n",
        "plt.plot(x, tan)\n",
        "plt.title('Tangente')\n",
        "\n",
        "plt.subplot(4, 1, 2)\n",
        "plt.plot(x, expo)\n",
        "plt.title('Exponente')\n",
        "\n",
        "plt.tight_layout()\n",
        "plt.show()"
      ],
      "metadata": {
        "colab": {
          "base_uri": "https://localhost:8080/",
          "height": 484
        },
        "id": "EblTIIVAXz_8",
        "outputId": "d9760200-32dc-415c-b0cd-21d346bb5902"
      },
      "execution_count": null,
      "outputs": [
        {
          "output_type": "display_data",
          "data": {
            "text/plain": [
              "<Figure size 640x480 with 4 Axes>"
            ],
            "image/png": "[encoded data removed]"
          },
          "metadata": {}
        }
      ]
    },
    {
      "cell_type": "markdown",
      "source": [
        "## Barras"
      ],
      "metadata": {
        "id": "a0I3fLgx2mkr"
      }
    },
    {
      "cell_type": "code",
      "source": [
        "bar_x = ['A', 'B', 'C', 'D', 'E']\n",
        "bar_y = [2, 3, 5, 8, 4]\n",
        "colores = ['dimgrey', 'azure', 'teal', 'cyan', 'darkgrey']\n",
        "plt.bar(bar_x, bar_y, color=colores)\n",
        "plt.title('Ganancias')\n",
        "plt.xlabel('Meses')\n",
        "plt.ylabel('Millones')\n",
        "plt.show()"
      ],
      "metadata": {
        "colab": {
          "base_uri": "https://localhost:8080/",
          "height": 470
        },
        "id": "WpS2osnLX0Bn",
        "outputId": "e350ccb6-0051-413c-ba98-df9e2ae08e77"
      },
      "execution_count": null,
      "outputs": [
        {
          "output_type": "display_data",
          "data": {
            "text/plain": [
              "<Figure size 640x480 with 1 Axes>"
            ],
            "image/png": "[encoded data removed]"
          },
          "metadata": {}
        }
      ]
    },
    {
      "cell_type": "markdown",
      "source": [
        "## Titanic"
      ],
      "metadata": {
        "id": "UBLeIqDkiCfX"
      }
    },
    {
      "cell_type": "code",
      "source": [
        "import pandas as pd\n",
        "import numpy as np\n",
        "import matplotlib.pyplot as plt"
      ],
      "metadata": {
        "id": "Fvpbo63ihwxx"
      },
      "execution_count": null,
      "outputs": []
    },
    {
      "cell_type": "code",
      "source": [
        "df_Titanic = pd.read_csv('titanic.csv')\n",
        "df_Titanic"
      ],
      "metadata": {
        "colab": {
          "base_uri": "https://localhost:8080/",
          "height": 458
        },
        "id": "hOiFruGfhwzu",
        "outputId": "6302b705-bfe2-4d46-de5c-261cf86a1be2"
      },
      "execution_count": null,
      "outputs": [
        {
          "output_type": "execute_result",
          "data": {
            "text/plain": [
              "     PassengerId  Survived  Pclass  \\\n",
              "0              1         0       3   \n",
              "1              2         1       1   \n",
              "2              3         1       3   \n",
              "3              4         1       1   \n",
              "4              5         0       3   \n",
              "..           ...       ...     ...   \n",
              "886          887         0       2   \n",
              "887          888         1       1   \n",
              "888          889         0       3   \n",
              "889          890         1       1   \n",
              "890          891         0       3   \n",
              "\n",
              "                                                  Name     Sex   Age  SibSp  \\\n",
              "0                              Braund, Mr. Owen Harris    male  22.0      1   \n",
              "1    Cumings, Mrs. John Bradley (Florence Briggs Th...  female  38.0      1   \n",
              "2                               Heikkinen, Miss. Laina  female  26.0      0   \n",
              "3         Futrelle, Mrs. Jacques Heath (Lily May Peel)  female  35.0      1   \n",
              "4                             Allen, Mr. William Henry    male  35.0      0   \n",
              "..                                                 ...     ...   ...    ...   \n",
              "886                              Montvila, Rev. Juozas    male  27.0      0   \n",
              "887                       Graham, Miss. Margaret Edith  female  19.0      0   \n",
              "888           Johnston, Miss. Catherine Helen \"Carrie\"  female   NaN      1   \n",
              "889                              Behr, Mr. Karl Howell    male  26.0      0   \n",
              "890                                Dooley, Mr. Patrick    male  32.0      0   \n",
              "\n",
              "     Parch            Ticket     Fare Cabin Embarked  \n",
              "0        0         A/5 21171   7.2500   NaN        S  \n",
              "1        0          PC 17599  71.2833   C85        C  \n",
              "2        0  STON/O2. 3101282   7.9250   NaN        S  \n",
              "3        0            113803  53.1000  C123        S  \n",
              "4        0            373450   8.0500   NaN        S  \n",
              "..     ...               ...      ...   ...      ...  \n",
              "886      0            211536  13.0000   NaN        S  \n",
              "887      0            112053  30.0000   B42        S  \n",
              "888      2        W./C. 6607  23.4500   NaN        S  \n",
              "889      0            111369  30.0000  C148        C  \n",
              "890      0            370376   7.7500   NaN        Q  \n",
              "\n",
              "[891 rows x 12 columns]"
            ],
            "text/html": [
              "\n",
              "  <div id=\"df-266b50af-52a8-43a5-b365-2ef7d48d1e51\" class=\"colab-df-container\">\n",
              "    <div>\n",
              "<style scoped>\n",
              "    .dataframe tbody tr th:only-of-type {\n",
              "        vertical-align: middle;\n",
              "    }\n",
              "\n",
              "    .dataframe tbody tr th {\n",
              "        vertical-align: top;\n",
              "    }\n",
              "\n",
              "    .dataframe thead th {\n",
              "        text-align: right;\n",
              "    }\n",
              "</style>\n",
              "<table border=\"1\" class=\"dataframe\">\n",
              "  <thead>\n",
              "    <tr style=\"text-align: right;\">\n",
              "      <th></th>\n",
              "      <th>PassengerId</th>\n",
              "      <th>Survived</th>\n",
              "      <th>Pclass</th>\n",
              "      <th>Name</th>\n",
              "      <th>Sex</th>\n",
              "      <th>Age</th>\n",
              "      <th>SibSp</th>\n",
              "      <th>Parch</th>\n",
              "      <th>Ticket</th>\n",
              "      <th>Fare</th>\n",
              "      <th>Cabin</th>\n",
              "      <th>Embarked</th>\n",
              "    </tr>\n",
              "  </thead>\n",
              "  <tbody>\n",
              "    <tr>\n",
              "      <th>0</th>\n",
              "      <td>1</td>\n",
              "      <td>0</td>\n",
              "      <td>3</td>\n",
              "      <td>Braund, Mr. Owen Harris</td>\n",
              "      <td>male</td>\n",
              "      <td>22.0</td>\n",
              "      <td>1</td>\n",
              "      <td>0</td>\n",
              "      <td>A/5 21171</td>\n",
              "      <td>7.2500</td>\n",
              "      <td>NaN</td>\n",
              "      <td>S</td>\n",
              "    </tr>\n",
              "    <tr>\n",
              "      <th>1</th>\n",
              "      <td>2</td>\n",
              "      <td>1</td>\n",
              "      <td>1</td>\n",
              "      <td>Cumings, Mrs. John Bradley (Florence Briggs Th...</td>\n",
              "      <td>female</td>\n",
              "      <td>38.0</td>\n",
              "      <td>1</td>\n",
              "      <td>0</td>\n",
              "      <td>PC 17599</td>\n",
              "      <td>71.2833</td>\n",
              "      <td>C85</td>\n",
              "      <td>C</td>\n",
              "    </tr>\n",
              "    <tr>\n",
              "      <th>2</th>\n",
              "      <td>3</td>\n",
              "      <td>1</td>\n",
              "      <td>3</td>\n",
              "      <td>Heikkinen, Miss. Laina</td>\n",
              "      <td>female</td>\n",
              "      <td>26.0</td>\n",
              "      <td>0</td>\n",
              "      <td>0</td>\n",
              "      <td>STON/O2. 3101282</td>\n",
              "      <td>7.9250</td>\n",
              "      <td>NaN</td>\n",
              "      <td>S</td>\n",
              "    </tr>\n",
              "    <tr>\n",
              "      <th>3</th>\n",
              "      <td>4</td>\n",
              "      <td>1</td>\n",
              "      <td>1</td>\n",
              "      <td>Futrelle, Mrs. Jacques Heath (Lily May Peel)</td>\n",
              "      <td>female</td>\n",
              "      <td>35.0</td>\n",
              "      <td>1</td>\n",
              "      <td>0</td>\n",
              "      <td>113803</td>\n",
              "      <td>53.1000</td>\n",
              "      <td>C123</td>\n",
              "      <td>S</td>\n",
              "    </tr>\n",
              "    <tr>\n",
              "      <th>4</th>\n",
              "      <td>5</td>\n",
              "      <td>0</td>\n",
              "      <td>3</td>\n",
              "      <td>Allen, Mr. William Henry</td>\n",
              "      <td>male</td>\n",
              "      <td>35.0</td>\n",
              "      <td>0</td>\n",
              "      <td>0</td>\n",
              "      <td>373450</td>\n",
              "      <td>8.0500</td>\n",
              "      <td>NaN</td>\n",
              "      <td>S</td>\n",
              "    </tr>\n",
              "    <tr>\n",
              "      <th>...</th>\n",
              "      <td>...</td>\n",
              "      <td>...</td>\n",
              "      <td>...</td>\n",
              "      <td>...</td>\n",
              "      <td>...</td>\n",
              "      <td>...</td>\n",
              "      <td>...</td>\n",
              "      <td>...</td>\n",
              "      <td>...</td>\n",
              "      <td>...</td>\n",
              "      <td>...</td>\n",
              "      <td>...</td>\n",
              "    </tr>\n",
              "    <tr>\n",
              "      <th>886</th>\n",
              "      <td>887</td>\n",
              "      <td>0</td>\n",
              "      <td>2</td>\n",
              "      <td>Montvila, Rev. Juozas</td>\n",
              "      <td>male</td>\n",
              "      <td>27.0</td>\n",
              "      <td>0</td>\n",
              "      <td>0</td>\n",
              "      <td>211536</td>\n",
              "      <td>13.0000</td>\n",
              "      <td>NaN</td>\n",
              "      <td>S</td>\n",
              "    </tr>\n",
              "    <tr>\n",
              "      <th>887</th>\n",
              "      <td>888</td>\n",
              "      <td>1</td>\n",
              "      <td>1</td>\n",
              "      <td>Graham, Miss. Margaret Edith</td>\n",
              "      <td>female</td>\n",
              "      <td>19.0</td>\n",
              "      <td>0</td>\n",
              "      <td>0</td>\n",
              "      <td>112053</td>\n",
              "      <td>30.0000</td>\n",
              "      <td>B42</td>\n",
              "      <td>S</td>\n",
              "    </tr>\n",
              "    <tr>\n",
              "      <th>888</th>\n",
              "      <td>889</td>\n",
              "      <td>0</td>\n",
              "      <td>3</td>\n",
              "      <td>Johnston, Miss. Catherine Helen \"Carrie\"</td>\n",
              "      <td>female</td>\n",
              "      <td>NaN</td>\n",
              "      <td>1</td>\n",
              "      <td>2</td>\n",
              "      <td>W./C. 6607</td>\n",
              "      <td>23.4500</td>\n",
              "      <td>NaN</td>\n",
              "      <td>S</td>\n",
              "    </tr>\n",
              "    <tr>\n",
              "      <th>889</th>\n",
              "      <td>890</td>\n",
              "      <td>1</td>\n",
              "      <td>1</td>\n",
              "      <td>Behr, Mr. Karl Howell</td>\n",
              "      <td>male</td>\n",
              "      <td>26.0</td>\n",
              "      <td>0</td>\n",
              "      <td>0</td>\n",
              "      <td>111369</td>\n",
              "      <td>30.0000</td>\n",
              "      <td>C148</td>\n",
              "      <td>C</td>\n",
              "    </tr>\n",
              "    <tr>\n",
              "      <th>890</th>\n",
              "      <td>891</td>\n",
              "      <td>0</td>\n",
              "      <td>3</td>\n",
              "      <td>Dooley, Mr. Patrick</td>\n",
              "      <td>male</td>\n",
              "      <td>32.0</td>\n",
              "      <td>0</td>\n",
              "      <td>0</td>\n",
              "      <td>370376</td>\n",
              "      <td>7.7500</td>\n",
              "      <td>NaN</td>\n",
              "      <td>Q</td>\n",
              "    </tr>\n",
              "  </tbody>\n",
              "</table>\n",
              "<p>891 rows × 12 columns</p>\n",
              "</div>\n",
              "    <div class=\"colab-df-buttons\">\n",
              "\n",
              "  <div class=\"colab-df-container\">\n",
              "    <button class=\"colab-df-convert\" onclick=\"convertToInteractive('df-266b50af-52a8-43a5-b365-2ef7d48d1e51')\"\n",
              "            title=\"Convert this dataframe to an interactive table.\"\n",
              "            style=\"display:none;\">\n",
              "\n",
              "  <svg xmlns=\"http://www.w3.org/2000/svg\" height=\"24px\" viewBox=\"0 -960 960 960\">\n",
              "    <path d=\"M120-120v-720h720v720H120Zm60-500h600v-160H180v160Zm220 220h160v-160H400v160Zm0 220h160v-160H400v160ZM180-400h160v-160H180v160Zm440 0h160v-160H620v160ZM180-180h160v-160H180v160Zm440 0h160v-160H620v160Z\"/>\n",
              "  </svg>\n",
              "    </button>\n",
              "\n",
              "  <style>\n",
              "    .colab-df-container {\n",
              "      display:flex;\n",
              "      gap: 12px;\n",
              "    }\n",
              "\n",
              "    .colab-df-convert {\n",
              "      background-color: #E8F0FE;\n",
              "      border: none;\n",
              "      border-radius: 50%;\n",
              "      cursor: pointer;\n",
              "      display: none;\n",
              "      fill: #1967D2;\n",
              "      height: 32px;\n",
              "      padding: 0 0 0 0;\n",
              "      width: 32px;\n",
              "    }\n",
              "\n",
              "    .colab-df-convert:hover {\n",
              "      background-color: #E2EBFA;\n",
              "      box-shadow: 0px 1px 2px rgba(60, 64, 67, 0.3), 0px 1px 3px 1px rgba(60, 64, 67, 0.15);\n",
              "      fill: #174EA6;\n",
              "    }\n",
              "\n",
              "    .colab-df-buttons div {\n",
              "      margin-bottom: 4px;\n",
              "    }\n",
              "\n",
              "    [theme=dark] .colab-df-convert {\n",
              "      background-color: #3B4455;\n",
              "      fill: #D2E3FC;\n",
              "    }\n",
              "\n",
              "    [theme=dark] .colab-df-convert:hover {\n",
              "      background-color: #434B5C;\n",
              "      box-shadow: 0px 1px 3px 1px rgba(0, 0, 0, 0.15);\n",
              "      filter: drop-shadow(0px 1px 2px rgba(0, 0, 0, 0.3));\n",
              "      fill: #FFFFFF;\n",
              "    }\n",
              "  </style>\n",
              "\n",
              "    <script>\n",
              "      const buttonEl =\n",
              "        document.querySelector('#df-266b50af-52a8-43a5-b365-2ef7d48d1e51 button.colab-df-convert');\n",
              "      buttonEl.style.display =\n",
              "        google.colab.kernel.accessAllowed ? 'block' : 'none';\n",
              "\n",
              "      async function convertToInteractive(key) {\n",
              "        const element = document.querySelector('#df-266b50af-52a8-43a5-b365-2ef7d48d1e51');\n",
              "        const dataTable =\n",
              "          await google.colab.kernel.invokeFunction('convertToInteractive',\n",
              "                                                    [key], {});\n",
              "        if (!dataTable) return;\n",
              "\n",
              "        const docLinkHtml = 'Like what you see? Visit the ' +\n",
              "          '<a target=\"_blank\" href=https://colab.research.google.com/notebooks/data_table.ipynb>data table notebook</a>'\n",
              "          + ' to learn more about interactive tables.';\n",
              "        element.innerHTML = '';\n",
              "        dataTable['output_type'] = 'display_data';\n",
              "        await google.colab.output.renderOutput(dataTable, element);\n",
              "        const docLink = document.createElement('div');\n",
              "        docLink.innerHTML = docLinkHtml;\n",
              "        element.appendChild(docLink);\n",
              "      }\n",
              "    </script>\n",
              "  </div>\n",
              "\n",
              "\n",
              "<div id=\"df-152241e5-2f23-4cc5-8b45-d91cb0bcd2eb\">\n",
              "  <button class=\"colab-df-quickchart\" onclick=\"quickchart('df-152241e5-2f23-4cc5-8b45-d91cb0bcd2eb')\"\n",
              "            title=\"Suggest charts\"\n",
              "            style=\"display:none;\">\n",
              "\n",
              "<svg xmlns=\"http://www.w3.org/2000/svg\" height=\"24px\"viewBox=\"0 0 24 24\"\n",
              "     width=\"24px\">\n",
              "    <g>\n",
              "        <path d=\"M19 3H5c-1.1 0-2 .9-2 2v14c0 1.1.9 2 2 2h14c1.1 0 2-.9 2-2V5c0-1.1-.9-2-2-2zM9 17H7v-7h2v7zm4 0h-2V7h2v10zm4 0h-2v-4h2v4z\"/>\n",
              "    </g>\n",
              "</svg>\n",
              "  </button>\n",
              "\n",
              "<style>\n",
              "  .colab-df-quickchart {\n",
              "      --bg-color: #E8F0FE;\n",
              "      --fill-color: #1967D2;\n",
              "      --hover-bg-color: #E2EBFA;\n",
              "      --hover-fill-color: #174EA6;\n",
              "      --disabled-fill-color: #AAA;\n",
              "      --disabled-bg-color: #DDD;\n",
              "  }\n",
              "\n",
              "  [theme=dark] .colab-df-quickchart {\n",
              "      --bg-color: #3B4455;\n",
              "      --fill-color: #D2E3FC;\n",
              "      --hover-bg-color: #434B5C;\n",
              "      --hover-fill-color: #FFFFFF;\n",
              "      --disabled-bg-color: #3B4455;\n",
              "      --disabled-fill-color: #666;\n",
              "  }\n",
              "\n",
              "  .colab-df-quickchart {\n",
              "    background-color: var(--bg-color);\n",
              "    border: none;\n",
              "    border-radius: 50%;\n",
              "    cursor: pointer;\n",
              "    display: none;\n",
              "    fill: var(--fill-color);\n",
              "    height: 32px;\n",
              "    padding: 0;\n",
              "    width: 32px;\n",
              "  }\n",
              "\n",
              "  .colab-df-quickchart:hover {\n",
              "    background-color: var(--hover-bg-color);\n",
              "    box-shadow: 0 1px 2px rgba(60, 64, 67, 0.3), 0 1px 3px 1px rgba(60, 64, 67, 0.15);\n",
              "    fill: var(--button-hover-fill-color);\n",
              "  }\n",
              "\n",
              "  .colab-df-quickchart-complete:disabled,\n",
              "  .colab-df-quickchart-complete:disabled:hover {\n",
              "    background-color: var(--disabled-bg-color);\n",
              "    fill: var(--disabled-fill-color);\n",
              "    box-shadow: none;\n",
              "  }\n",
              "\n",
              "  .colab-df-spinner {\n",
              "    border: 2px solid var(--fill-color);\n",
              "    border-color: transparent;\n",
              "    border-bottom-color: var(--fill-color);\n",
              "    animation:\n",
              "      spin 1s steps(1) infinite;\n",
              "  }\n",
              "\n",
              "  @keyframes spin {\n",
              "    0% {\n",
              "      border-color: transparent;\n",
              "      border-bottom-color: var(--fill-color);\n",
              "      border-left-color: var(--fill-color);\n",
              "    }\n",
              "    20% {\n",
              "      border-color: transparent;\n",
              "      border-left-color: var(--fill-color);\n",
              "      border-top-color: var(--fill-color);\n",
              "    }\n",
              "    30% {\n",
              "      border-color: transparent;\n",
              "      border-left-color: var(--fill-color);\n",
              "      border-top-color: var(--fill-color);\n",
              "      border-right-color: var(--fill-color);\n",
              "    }\n",
              "    40% {\n",
              "      border-color: transparent;\n",
              "      border-right-color: var(--fill-color);\n",
              "      border-top-color: var(--fill-color);\n",
              "    }\n",
              "    60% {\n",
              "      border-color: transparent;\n",
              "      border-right-color: var(--fill-color);\n",
              "    }\n",
              "    80% {\n",
              "      border-color: transparent;\n",
              "      border-right-color: var(--fill-color);\n",
              "      border-bottom-color: var(--fill-color);\n",
              "    }\n",
              "    90% {\n",
              "      border-color: transparent;\n",
              "      border-bottom-color: var(--fill-color);\n",
              "    }\n",
              "  }\n",
              "</style>\n",
              "\n",
              "  <script>\n",
              "    async function quickchart(key) {\n",
              "      const quickchartButtonEl =\n",
              "        document.querySelector('#' + key + ' button');\n",
              "      quickchartButtonEl.disabled = true;  // To prevent multiple clicks.\n",
              "      quickchartButtonEl.classList.add('colab-df-spinner');\n",
              "      try {\n",
              "        const charts = await google.colab.kernel.invokeFunction(\n",
              "            'suggestCharts', [key], {});\n",
              "      } catch (error) {\n",
              "        console.error('Error during call to suggestCharts:', error);\n",
              "      }\n",
              "      quickchartButtonEl.classList.remove('colab-df-spinner');\n",
              "      quickchartButtonEl.classList.add('colab-df-quickchart-complete');\n",
              "    }\n",
              "    (() => {\n",
              "      let quickchartButtonEl =\n",
              "        document.querySelector('#df-152241e5-2f23-4cc5-8b45-d91cb0bcd2eb button');\n",
              "      quickchartButtonEl.style.display =\n",
              "        google.colab.kernel.accessAllowed ? 'block' : 'none';\n",
              "    })();\n",
              "  </script>\n",
              "</div>\n",
              "\n",
              "  <div id=\"id_f869ead0-e1f2-4312-b858-7dcbb9eafb51\">\n",
              "    <style>\n",
              "      .colab-df-generate {\n",
              "        background-color: #E8F0FE;\n",
              "        border: none;\n",
              "        border-radius: 50%;\n",
              "        cursor: pointer;\n",
              "        display: none;\n",
              "        fill: #1967D2;\n",
              "        height: 32px;\n",
              "        padding: 0 0 0 0;\n",
              "        width: 32px;\n",
              "      }\n",
              "\n",
              "      .colab-df-generate:hover {\n",
              "        background-color: #E2EBFA;\n",
              "        box-shadow: 0px 1px 2px rgba(60, 64, 67, 0.3), 0px 1px 3px 1px rgba(60, 64, 67, 0.15);\n",
              "        fill: #174EA6;\n",
              "      }\n",
              "\n",
              "      [theme=dark] .colab-df-generate {\n",
              "        background-color: #3B4455;\n",
              "        fill: #D2E3FC;\n",
              "      }\n",
              "\n",
              "      [theme=dark] .colab-df-generate:hover {\n",
              "        background-color: #434B5C;\n",
              "        box-shadow: 0px 1px 3px 1px rgba(0, 0, 0, 0.15);\n",
              "        filter: drop-shadow(0px 1px 2px rgba(0, 0, 0, 0.3));\n",
              "        fill: #FFFFFF;\n",
              "      }\n",
              "    </style>\n",
              "    <button class=\"colab-df-generate\" onclick=\"generateWithVariable('df_Titanic')\"\n",
              "            title=\"Generate code using this dataframe.\"\n",
              "            style=\"display:none;\">\n",
              "\n",
              "  <svg xmlns=\"http://www.w3.org/2000/svg\" height=\"24px\"viewBox=\"0 0 24 24\"\n",
              "       width=\"24px\">\n",
              "    <path d=\"M7,19H8.4L18.45,9,17,7.55,7,17.6ZM5,21V16.75L18.45,3.32a2,2,0,0,1,2.83,0l1.4,1.43a1.91,1.91,0,0,1,.58,1.4,1.91,1.91,0,0,1-.58,1.4L9.25,21ZM18.45,9,17,7.55Zm-12,3A5.31,5.31,0,0,0,4.9,8.1,5.31,5.31,0,0,0,1,6.5,5.31,5.31,0,0,0,4.9,4.9,5.31,5.31,0,0,0,6.5,1,5.31,5.31,0,0,0,8.1,4.9,5.31,5.31,0,0,0,12,6.5,5.46,5.46,0,0,0,6.5,12Z\"/>\n",
              "  </svg>\n",
              "    </button>\n",
              "    <script>\n",
              "      (() => {\n",
              "      const buttonEl =\n",
              "        document.querySelector('#id_f869ead0-e1f2-4312-b858-7dcbb9eafb51 button.colab-df-generate');\n",
              "      buttonEl.style.display =\n",
              "        google.colab.kernel.accessAllowed ? 'block' : 'none';\n",
              "\n",
              "      buttonEl.onclick = () => {\n",
              "        google.colab.notebook.generateWithVariable('df_Titanic');\n",
              "      }\n",
              "      })();\n",
              "    </script>\n",
              "  </div>\n",
              "\n",
              "    </div>\n",
              "  </div>\n"
            ],
            "application/vnd.google.colaboratory.intrinsic+json": {
              "type": "dataframe",
              "variable_name": "df_Titanic",
              "summary": "{\n  \"name\": \"df_Titanic\",\n  \"rows\": 891,\n  \"fields\": [\n    {\n      \"column\": \"PassengerId\",\n      \"properties\": {\n        \"dtype\": \"number\",\n        \"std\": 257,\n        \"min\": 1,\n        \"max\": 891,\n        \"num_unique_values\": 891,\n        \"samples\": [\n          710,\n          440,\n          841\n        ],\n        \"semantic_type\": \"\",\n        \"description\": \"\"\n      }\n    },\n    {\n      \"column\": \"Survived\",\n      \"properties\": {\n        \"dtype\": \"number\",\n        \"std\": 0,\n        \"min\": 0,\n        \"max\": 1,\n        \"num_unique_values\": 2,\n        \"samples\": [\n          1,\n          0\n        ],\n        \"semantic_type\": \"\",\n        \"description\": \"\"\n      }\n    },\n    {\n      \"column\": \"Pclass\",\n      \"properties\": {\n        \"dtype\": \"number\",\n        \"std\": 0,\n        \"min\": 1,\n        \"max\": 3,\n        \"num_unique_values\": 3,\n        \"samples\": [\n          3,\n          1\n        ],\n        \"semantic_type\": \"\",\n        \"description\": \"\"\n      }\n    },\n    {\n      \"column\": \"Name\",\n      \"properties\": {\n        \"dtype\": \"string\",\n        \"num_unique_values\": 891,\n        \"samples\": [\n          \"Moubarek, Master. Halim Gonios (\\\"William George\\\")\",\n          \"Kvillner, Mr. Johan Henrik Johannesson\"\n        ],\n        \"semantic_type\": \"\",\n        \"description\": \"\"\n      }\n    },\n    {\n      \"column\": \"Sex\",\n      \"properties\": {\n        \"dtype\": \"category\",\n        \"num_unique_values\": 2,\n        \"samples\": [\n          \"female\",\n          \"male\"\n        ],\n        \"semantic_type\": \"\",\n        \"description\": \"\"\n      }\n    },\n    {\n      \"column\": \"Age\",\n      \"properties\": {\n        \"dtype\": \"number\",\n        \"std\": 14.526497332334042,\n        \"min\": 0.42,\n        \"max\": 80.0,\n        \"num_unique_values\": 88,\n        \"samples\": [\n          0.75,\n          22.0\n        ],\n        \"semantic_type\": \"\",\n        \"description\": \"\"\n      }\n    },\n    {\n      \"column\": \"SibSp\",\n      \"properties\": {\n        \"dtype\": \"number\",\n        \"std\": 1,\n        \"min\": 0,\n        \"max\": 8,\n        \"num_unique_values\": 7,\n        \"samples\": [\n          1,\n          0\n        ],\n        \"semantic_type\": \"\",\n        \"description\": \"\"\n      }\n    },\n    {\n      \"column\": \"Parch\",\n      \"properties\": {\n        \"dtype\": \"number\",\n        \"std\": 0,\n        \"min\": 0,\n        \"max\": 6,\n        \"num_unique_values\": 7,\n        \"samples\": [\n          0,\n          1\n        ],\n        \"semantic_type\": \"\",\n        \"description\": \"\"\n      }\n    },\n    {\n      \"column\": \"Ticket\",\n      \"properties\": {\n        \"dtype\": \"string\",\n        \"num_unique_values\": 681,\n        \"samples\": [\n          \"11774\",\n          \"248740\"\n        ],\n        \"semantic_type\": \"\",\n        \"description\": \"\"\n      }\n    },\n    {\n      \"column\": \"Fare\",\n      \"properties\": {\n        \"dtype\": \"number\",\n        \"std\": 49.6934285971809,\n        \"min\": 0.0,\n        \"max\": 512.3292,\n        \"num_unique_values\": 248,\n        \"samples\": [\n          11.2417,\n          51.8625\n        ],\n        \"semantic_type\": \"\",\n        \"description\": \"\"\n      }\n    },\n    {\n      \"column\": \"Cabin\",\n      \"properties\": {\n        \"dtype\": \"category\",\n        \"num_unique_values\": 147,\n        \"samples\": [\n          \"D45\",\n          \"B49\"\n        ],\n        \"semantic_type\": \"\",\n        \"description\": \"\"\n      }\n    },\n    {\n      \"column\": \"Embarked\",\n      \"properties\": {\n        \"dtype\": \"category\",\n        \"num_unique_values\": 3,\n        \"samples\": [\n          \"S\",\n          \"C\"\n        ],\n        \"semantic_type\": \"\",\n        \"description\": \"\"\n      }\n    }\n  ]\n}"
            }
          },
          "metadata": {},
          "execution_count": 3
        }
      ]
    },
    {
      "cell_type": "code",
      "source": [
        "# Punto 4 - Porcentaje de supervivencia general\n",
        "len_df_titanic = len(df_Titanic)\n",
        "len_survived = df_Titanic['Survived'].value_counts()[1]\n",
        "porcentaje_gen = round(len_survived*100/len_df_titanic, 2)\n",
        "print('El porcentaje de supervivencia es de: ' + str(porcentaje_gen) + '%')"
      ],
      "metadata": {
        "colab": {
          "base_uri": "https://localhost:8080/"
        },
        "id": "1T6Eq_V9hw1X",
        "outputId": "ed07685c-04f3-4ef0-b431-2b7e99a42717"
      },
      "execution_count": null,
      "outputs": [
        {
          "output_type": "stream",
          "name": "stdout",
          "text": [
            "El porcentaje de supervivencia es de: 38.38%\n"
          ]
        }
      ]
    },
    {
      "cell_type": "code",
      "source": [
        "# Punto 5 - Supervivencia de los hombres (Dentro de la población total y dentro de los supervivientes)\n",
        "len_male = df_Titanic.groupby('Sex')['Sex'].value_counts()['male']\n",
        "porcentaje_male = round(len_male*100/len_df_titanic, 2)\n",
        "print('Hombres embarcados: ' + str(porcentaje_male) + '%')\n",
        "\n",
        "Survived_male = df_Titanic[df_Titanic['Survived']==1]['Sex'].value_counts()['male']\n",
        "porcentaje_survived_male = round(Survived_male*100/len_survived, 2)\n",
        "print('Porcentaje de hombres supervivientes: ' + str(porcentaje_survived_male) + '%')"
      ],
      "metadata": {
        "colab": {
          "base_uri": "https://localhost:8080/"
        },
        "id": "P2ZmlR7IotIA",
        "outputId": "2a60ab54-4b21-4ed5-bb8b-26c52a011ba2"
      },
      "execution_count": null,
      "outputs": [
        {
          "output_type": "stream",
          "name": "stdout",
          "text": [
            "Hombres embarcados: 64.76%\n",
            "Porcentaje de hombres supervivientes: 31.87%\n"
          ]
        }
      ]
    },
    {
      "cell_type": "code",
      "source": [
        "# Punto 6 - Supervivencia de las mujeres (Dentro de la población total y dentro de los supervivientes)\n",
        "len_female = df_Titanic['Sex'].value_counts()['female']\n",
        "len_survived_female = len(df_Titanic[(df_Titanic['Survived'] == 1) & (df_Titanic['Sex'] == 'female')])\n",
        "print('Porcentaje abordaje mujeres:', round(len_female*100/len_df_titanic,2), '%')\n",
        "print('Porcentaje sobrevivientes mujeres:', round(len_survived_female*100/len_survived,2), '%')"
      ],
      "metadata": {
        "colab": {
          "base_uri": "https://localhost:8080/"
        },
        "id": "Ft3Zh0mctRzL",
        "outputId": "11340c6a-8483-4f11-886e-854ea049afe2"
      },
      "execution_count": null,
      "outputs": [
        {
          "output_type": "stream",
          "name": "stdout",
          "text": [
            "Porcentaje abordaje mujeres: 35.24 %\n",
            "Porcentaje sobrevivientes mujeres: 68.13 %\n"
          ]
        }
      ]
    },
    {
      "cell_type": "code",
      "source": [
        "# Punto 8\n",
        "for x in range(1,4):\n",
        "  print(f'Porcentaje abordaje Clase {x}:', round(df_Titanic['Pclass'].value_counts()[x]*100/len_df_titanic,2), '%')\n",
        "  print(f'Porcentaje de superviviente Clase {x}:', round(len(df_Titanic[(df_Titanic['Survived'] == 1) & (df_Titanic['Pclass'] == x)])*100/len_survived, 2), '%')\n"
      ],
      "metadata": {
        "colab": {
          "base_uri": "https://localhost:8080/"
        },
        "id": "8QfqFuFG9Kgm",
        "outputId": "99f13aac-5eeb-45b4-d94a-24b1ac4dbd1b"
      },
      "execution_count": null,
      "outputs": [
        {
          "output_type": "stream",
          "name": "stdout",
          "text": [
            "Porcentaje abordaje Clase 1: 24.24 %\n",
            "Porcentaje de superviviente Clase 1: 39.77 %\n",
            "Porcentaje abordaje Clase 2: 20.65 %\n",
            "Porcentaje de superviviente Clase 2: 25.44 %\n",
            "Porcentaje abordaje Clase 3: 55.11 %\n",
            "Porcentaje de superviviente Clase 3: 34.8 %\n"
          ]
        }
      ]
    },
    {
      "cell_type": "markdown",
      "source": [
        "## Frecuencias\n",
        "Ejemplo"
      ],
      "metadata": {
        "id": "vQEH1HEgMtYr"
      }
    },
    {
      "cell_type": "code",
      "source": [
        "data = [18,35,22,41,35,68,30,30,30,46,42,32,30,16,28,35,35,35,44,44,44,39,44,61,55,32,32,28,\n",
        "        28,29,25,25,28,54,53,35,60,35,35,35,64,35,35,34,22,44,17,16,46,46,27,25,46,47,46,35,\n",
        "        39,59,59,32,32,28,35,27,31,30,32,61,35,54,57,35,56,44,58,41,42,44,30,40,46,46,50,49,\n",
        "        50,36,41,29]"
      ],
      "metadata": {
        "id": "pFtsCU8hkPFU"
      },
      "execution_count": null,
      "outputs": []
    },
    {
      "cell_type": "code",
      "source": [
        "# Forma 1\n",
        "dict_frecs = {}\n",
        "for x in data:\n",
        "    if x in dict_frecs:\n",
        "      dict_frecs[x] += 1\n",
        "    else:\n",
        "      dict_frecs[x] = 1"
      ],
      "metadata": {
        "id": "_v8finFthw3I"
      },
      "execution_count": null,
      "outputs": []
    },
    {
      "cell_type": "code",
      "source": [
        "dict_frecs"
      ],
      "metadata": {
        "colab": {
          "base_uri": "https://localhost:8080/"
        },
        "collapsed": true,
        "id": "MveiJON-NdUL",
        "outputId": "c0436a9e-e92b-4add-9364-d7d3bd54416b"
      },
      "execution_count": null,
      "outputs": [
        {
          "output_type": "execute_result",
          "data": {
            "text/plain": [
              "{18: 1,\n",
              " 35: 15,\n",
              " 22: 2,\n",
              " 41: 3,\n",
              " 68: 1,\n",
              " 30: 6,\n",
              " 46: 7,\n",
              " 42: 2,\n",
              " 32: 6,\n",
              " 16: 2,\n",
              " 28: 5,\n",
              " 44: 7,\n",
              " 39: 2,\n",
              " 61: 2,\n",
              " 55: 1,\n",
              " 29: 2,\n",
              " 25: 3,\n",
              " 54: 2,\n",
              " 53: 1,\n",
              " 60: 1,\n",
              " 64: 1,\n",
              " 34: 1,\n",
              " 17: 1,\n",
              " 27: 2,\n",
              " 47: 1,\n",
              " 59: 2,\n",
              " 31: 1,\n",
              " 57: 1,\n",
              " 56: 1,\n",
              " 58: 1,\n",
              " 40: 1,\n",
              " 50: 2,\n",
              " 49: 1,\n",
              " 36: 1}"
            ]
          },
          "metadata": {},
          "execution_count": 12
        }
      ]
    },
    {
      "cell_type": "code",
      "source": [
        "# Forma 2\n",
        "data_series = pd.Series(data)\n",
        "frequencia = data_series.value_counts()\n",
        "print(frequencia)"
      ],
      "metadata": {
        "colab": {
          "base_uri": "https://localhost:8080/"
        },
        "collapsed": true,
        "id": "DDCwYvrnNdcd",
        "outputId": "474cca96-6b3c-4b28-d4a3-da3ff3a1f498"
      },
      "execution_count": null,
      "outputs": [
        {
          "output_type": "stream",
          "name": "stdout",
          "text": [
            "35    15\n",
            "46     7\n",
            "44     7\n",
            "30     6\n",
            "32     6\n",
            "28     5\n",
            "41     3\n",
            "25     3\n",
            "54     2\n",
            "61     2\n",
            "29     2\n",
            "50     2\n",
            "39     2\n",
            "59     2\n",
            "16     2\n",
            "42     2\n",
            "22     2\n",
            "27     2\n",
            "49     1\n",
            "40     1\n",
            "58     1\n",
            "56     1\n",
            "57     1\n",
            "31     1\n",
            "18     1\n",
            "47     1\n",
            "17     1\n",
            "34     1\n",
            "64     1\n",
            "60     1\n",
            "53     1\n",
            "55     1\n",
            "68     1\n",
            "36     1\n",
            "Name: count, dtype: int64\n"
          ]
        }
      ]
    },
    {
      "cell_type": "code",
      "source": [
        "# Forma 3\n",
        "len_data = len(data)\n",
        "frecuencias = pd.Series(data).value_counts().sort_index(ascending= False)\n",
        "#frecuencias"
      ],
      "metadata": {
        "colab": {
          "base_uri": "https://localhost:8080/"
        },
        "id": "Z-YyTpcYNdeG",
        "outputId": "d0ddbbea-d75b-4b14-c8f4-c986a577c3fe",
        "collapsed": true
      },
      "execution_count": null,
      "outputs": [
        {
          "output_type": "execute_result",
          "data": {
            "text/plain": [
              "68     1\n",
              "64     1\n",
              "61     2\n",
              "60     1\n",
              "59     2\n",
              "58     1\n",
              "57     1\n",
              "56     1\n",
              "55     1\n",
              "54     2\n",
              "53     1\n",
              "50     2\n",
              "49     1\n",
              "47     1\n",
              "46     7\n",
              "44     7\n",
              "42     2\n",
              "41     3\n",
              "40     1\n",
              "39     2\n",
              "36     1\n",
              "35    15\n",
              "34     1\n",
              "32     6\n",
              "31     1\n",
              "30     6\n",
              "29     2\n",
              "28     5\n",
              "27     2\n",
              "25     3\n",
              "22     2\n",
              "18     1\n",
              "17     1\n",
              "16     2\n",
              "Name: count, dtype: int64"
            ]
          },
          "metadata": {},
          "execution_count": 5
        }
      ]
    },
    {
      "cell_type": "code",
      "source": [
        "# Frec Relativa Porcentual\n",
        "frec_relat = [round(x/len_data,3) for x in frecuencias.to_list()]\n",
        "#frec_relat"
      ],
      "metadata": {
        "id": "Qb6jwfUtDeyy",
        "collapsed": true
      },
      "execution_count": null,
      "outputs": []
    },
    {
      "cell_type": "code",
      "source": [
        "# Frec Acumulada\n",
        "cumulative_frequency_data = calculate_cumulative_frequency(frecuencias.to_list())\n",
        "# Imprimir los resultados\n",
        "print(\"\\nFrecuencia Acumulada:\")\n",
        "for key, value in cumulative_frequency_data.items():\n",
        "    print(f\"{key}: {value}\")"
      ],
      "metadata": {
        "id": "MtHbQu9Br81i",
        "colab": {
          "base_uri": "https://localhost:8080/",
          "height": 214
        },
        "collapsed": true,
        "outputId": "3392e647-a17b-41ff-95a8-7a73ae1fcf70"
      },
      "execution_count": null,
      "outputs": [
        {
          "output_type": "error",
          "ename": "NameError",
          "evalue": "name 'calculate_cumulative_frequency' is not defined",
          "traceback": [
            "\u001b[0;31m---------------------------------------------------------------------------\u001b[0m",
            "\u001b[0;31mNameError\u001b[0m                                 Traceback (most recent call last)",
            "\u001b[0;32m<ipython-input-6-2fc0a62f7cc6>\u001b[0m in \u001b[0;36m<cell line: 2>\u001b[0;34m()\u001b[0m\n\u001b[1;32m      1\u001b[0m \u001b[0;31m# Frec Acumulada\u001b[0m\u001b[0;34m\u001b[0m\u001b[0;34m\u001b[0m\u001b[0m\n\u001b[0;32m----> 2\u001b[0;31m \u001b[0mcumulative_frequency_data\u001b[0m \u001b[0;34m=\u001b[0m \u001b[0mcalculate_cumulative_frequency\u001b[0m\u001b[0;34m(\u001b[0m\u001b[0mfrecuencias\u001b[0m\u001b[0;34m.\u001b[0m\u001b[0mto_list\u001b[0m\u001b[0;34m(\u001b[0m\u001b[0;34m)\u001b[0m\u001b[0;34m)\u001b[0m\u001b[0;34m\u001b[0m\u001b[0;34m\u001b[0m\u001b[0m\n\u001b[0m\u001b[1;32m      3\u001b[0m \u001b[0;31m# Imprimir los resultados\u001b[0m\u001b[0;34m\u001b[0m\u001b[0;34m\u001b[0m\u001b[0m\n\u001b[1;32m      4\u001b[0m \u001b[0mprint\u001b[0m\u001b[0;34m(\u001b[0m\u001b[0;34m\"\\nFrecuencia Acumulada:\"\u001b[0m\u001b[0;34m)\u001b[0m\u001b[0;34m\u001b[0m\u001b[0;34m\u001b[0m\u001b[0m\n\u001b[1;32m      5\u001b[0m \u001b[0;32mfor\u001b[0m \u001b[0mkey\u001b[0m\u001b[0;34m,\u001b[0m \u001b[0mvalue\u001b[0m \u001b[0;32min\u001b[0m \u001b[0mcumulative_frequency_data\u001b[0m\u001b[0;34m.\u001b[0m\u001b[0mitems\u001b[0m\u001b[0;34m(\u001b[0m\u001b[0;34m)\u001b[0m\u001b[0;34m:\u001b[0m\u001b[0;34m\u001b[0m\u001b[0;34m\u001b[0m\u001b[0m\n",
            "\u001b[0;31mNameError\u001b[0m: name 'calculate_cumulative_frequency' is not defined"
          ]
        }
      ]
    },
    {
      "cell_type": "code",
      "source": [
        "frec_acum = [sum(frecuencias.to_list()[frec:]) for frec in range(len(frecuencias.to_list()))]"
      ],
      "metadata": {
        "id": "N_OPDdPmV1m5"
      },
      "execution_count": null,
      "outputs": []
    },
    {
      "cell_type": "code",
      "source": [
        "frec_relat_acum = [round(y/len_data, 3) for y in frec_acum]\n",
        "#frec_relat_acum"
      ],
      "metadata": {
        "collapsed": true,
        "id": "lxKpkbRzV1oZ"
      },
      "execution_count": null,
      "outputs": []
    },
    {
      "cell_type": "code",
      "source": [
        "df_frecuencias = pd.DataFrame()\n",
        "categs = frecuencias.index.to_list()\n",
        "frecs = frecuencias.to_list()\n",
        "df_frecuencias['Datos'] = categs\n",
        "df_frecuencias['Frecuencias'] = frecs\n",
        "df_frecuencias['Relativa'] = frec_relat\n",
        "df_frecuencias['Acumulativa'] = frec_acum\n",
        "df_frecuencias['Relativa Acumulada'] = frec_relat_acum"
      ],
      "metadata": {
        "id": "HxdJ4NTBV1qB"
      },
      "execution_count": null,
      "outputs": []
    },
    {
      "cell_type": "code",
      "source": [
        "df_frecuencias"
      ],
      "metadata": {
        "colab": {
          "base_uri": "https://localhost:8080/",
          "height": 1000
        },
        "id": "wF8EKi2PijzR",
        "outputId": "0d9a60bf-fbaf-4997-99e0-ccb447bd4264"
      },
      "execution_count": null,
      "outputs": [
        {
          "output_type": "execute_result",
          "data": {
            "text/plain": [
              "    Datos  Frecuencias  Relativa  Acumulativa  Relativa Acumulada\n",
              "0      68            1     0.011           88               1.000\n",
              "1      64            1     0.011           87               0.989\n",
              "2      61            2     0.023           86               0.977\n",
              "3      60            1     0.011           84               0.955\n",
              "4      59            2     0.023           83               0.943\n",
              "5      58            1     0.011           81               0.920\n",
              "6      57            1     0.011           80               0.909\n",
              "7      56            1     0.011           79               0.898\n",
              "8      55            1     0.011           78               0.886\n",
              "9      54            2     0.023           77               0.875\n",
              "10     53            1     0.011           75               0.852\n",
              "11     50            2     0.023           74               0.841\n",
              "12     49            1     0.011           72               0.818\n",
              "13     47            1     0.011           71               0.807\n",
              "14     46            7     0.080           70               0.795\n",
              "15     44            7     0.080           63               0.716\n",
              "16     42            2     0.023           56               0.636\n",
              "17     41            3     0.034           54               0.614\n",
              "18     40            1     0.011           51               0.580\n",
              "19     39            2     0.023           50               0.568\n",
              "20     36            1     0.011           48               0.545\n",
              "21     35           15     0.170           47               0.534\n",
              "22     34            1     0.011           32               0.364\n",
              "23     32            6     0.068           31               0.352\n",
              "24     31            1     0.011           25               0.284\n",
              "25     30            6     0.068           24               0.273\n",
              "26     29            2     0.023           18               0.205\n",
              "27     28            5     0.057           16               0.182\n",
              "28     27            2     0.023           11               0.125\n",
              "29     25            3     0.034            9               0.102\n",
              "30     22            2     0.023            6               0.068\n",
              "31     18            1     0.011            4               0.045\n",
              "32     17            1     0.011            3               0.034\n",
              "33     16            2     0.023            2               0.023"
            ],
            "text/html": [
              "\n",
              "  <div id=\"df-ea236ce7-2974-48bd-8a7c-33087fd070b9\" class=\"colab-df-container\">\n",
              "    <div>\n",
              "<style scoped>\n",
              "    .dataframe tbody tr th:only-of-type {\n",
              "        vertical-align: middle;\n",
              "    }\n",
              "\n",
              "    .dataframe tbody tr th {\n",
              "        vertical-align: top;\n",
              "    }\n",
              "\n",
              "    .dataframe thead th {\n",
              "        text-align: right;\n",
              "    }\n",
              "</style>\n",
              "<table border=\"1\" class=\"dataframe\">\n",
              "  <thead>\n",
              "    <tr style=\"text-align: right;\">\n",
              "      <th></th>\n",
              "      <th>Datos</th>\n",
              "      <th>Frecuencias</th>\n",
              "      <th>Relativa</th>\n",
              "      <th>Acumulativa</th>\n",
              "      <th>Relativa Acumulada</th>\n",
              "    </tr>\n",
              "  </thead>\n",
              "  <tbody>\n",
              "    <tr>\n",
              "      <th>0</th>\n",
              "      <td>68</td>\n",
              "      <td>1</td>\n",
              "      <td>0.011</td>\n",
              "      <td>88</td>\n",
              "      <td>1.000</td>\n",
              "    </tr>\n",
              "    <tr>\n",
              "      <th>1</th>\n",
              "      <td>64</td>\n",
              "      <td>1</td>\n",
              "      <td>0.011</td>\n",
              "      <td>87</td>\n",
              "      <td>0.989</td>\n",
              "    </tr>\n",
              "    <tr>\n",
              "      <th>2</th>\n",
              "      <td>61</td>\n",
              "      <td>2</td>\n",
              "      <td>0.023</td>\n",
              "      <td>86</td>\n",
              "      <td>0.977</td>\n",
              "    </tr>\n",
              "    <tr>\n",
              "      <th>3</th>\n",
              "      <td>60</td>\n",
              "      <td>1</td>\n",
              "      <td>0.011</td>\n",
              "      <td>84</td>\n",
              "      <td>0.955</td>\n",
              "    </tr>\n",
              "    <tr>\n",
              "      <th>4</th>\n",
              "      <td>59</td>\n",
              "      <td>2</td>\n",
              "      <td>0.023</td>\n",
              "      <td>83</td>\n",
              "      <td>0.943</td>\n",
              "    </tr>\n",
              "    <tr>\n",
              "      <th>5</th>\n",
              "      <td>58</td>\n",
              "      <td>1</td>\n",
              "      <td>0.011</td>\n",
              "      <td>81</td>\n",
              "      <td>0.920</td>\n",
              "    </tr>\n",
              "    <tr>\n",
              "      <th>6</th>\n",
              "      <td>57</td>\n",
              "      <td>1</td>\n",
              "      <td>0.011</td>\n",
              "      <td>80</td>\n",
              "      <td>0.909</td>\n",
              "    </tr>\n",
              "    <tr>\n",
              "      <th>7</th>\n",
              "      <td>56</td>\n",
              "      <td>1</td>\n",
              "      <td>0.011</td>\n",
              "      <td>79</td>\n",
              "      <td>0.898</td>\n",
              "    </tr>\n",
              "    <tr>\n",
              "      <th>8</th>\n",
              "      <td>55</td>\n",
              "      <td>1</td>\n",
              "      <td>0.011</td>\n",
              "      <td>78</td>\n",
              "      <td>0.886</td>\n",
              "    </tr>\n",
              "    <tr>\n",
              "      <th>9</th>\n",
              "      <td>54</td>\n",
              "      <td>2</td>\n",
              "      <td>0.023</td>\n",
              "      <td>77</td>\n",
              "      <td>0.875</td>\n",
              "    </tr>\n",
              "    <tr>\n",
              "      <th>10</th>\n",
              "      <td>53</td>\n",
              "      <td>1</td>\n",
              "      <td>0.011</td>\n",
              "      <td>75</td>\n",
              "      <td>0.852</td>\n",
              "    </tr>\n",
              "    <tr>\n",
              "      <th>11</th>\n",
              "      <td>50</td>\n",
              "      <td>2</td>\n",
              "      <td>0.023</td>\n",
              "      <td>74</td>\n",
              "      <td>0.841</td>\n",
              "    </tr>\n",
              "    <tr>\n",
              "      <th>12</th>\n",
              "      <td>49</td>\n",
              "      <td>1</td>\n",
              "      <td>0.011</td>\n",
              "      <td>72</td>\n",
              "      <td>0.818</td>\n",
              "    </tr>\n",
              "    <tr>\n",
              "      <th>13</th>\n",
              "      <td>47</td>\n",
              "      <td>1</td>\n",
              "      <td>0.011</td>\n",
              "      <td>71</td>\n",
              "      <td>0.807</td>\n",
              "    </tr>\n",
              "    <tr>\n",
              "      <th>14</th>\n",
              "      <td>46</td>\n",
              "      <td>7</td>\n",
              "      <td>0.080</td>\n",
              "      <td>70</td>\n",
              "      <td>0.795</td>\n",
              "    </tr>\n",
              "    <tr>\n",
              "      <th>15</th>\n",
              "      <td>44</td>\n",
              "      <td>7</td>\n",
              "      <td>0.080</td>\n",
              "      <td>63</td>\n",
              "      <td>0.716</td>\n",
              "    </tr>\n",
              "    <tr>\n",
              "      <th>16</th>\n",
              "      <td>42</td>\n",
              "      <td>2</td>\n",
              "      <td>0.023</td>\n",
              "      <td>56</td>\n",
              "      <td>0.636</td>\n",
              "    </tr>\n",
              "    <tr>\n",
              "      <th>17</th>\n",
              "      <td>41</td>\n",
              "      <td>3</td>\n",
              "      <td>0.034</td>\n",
              "      <td>54</td>\n",
              "      <td>0.614</td>\n",
              "    </tr>\n",
              "    <tr>\n",
              "      <th>18</th>\n",
              "      <td>40</td>\n",
              "      <td>1</td>\n",
              "      <td>0.011</td>\n",
              "      <td>51</td>\n",
              "      <td>0.580</td>\n",
              "    </tr>\n",
              "    <tr>\n",
              "      <th>19</th>\n",
              "      <td>39</td>\n",
              "      <td>2</td>\n",
              "      <td>0.023</td>\n",
              "      <td>50</td>\n",
              "      <td>0.568</td>\n",
              "    </tr>\n",
              "    <tr>\n",
              "      <th>20</th>\n",
              "      <td>36</td>\n",
              "      <td>1</td>\n",
              "      <td>0.011</td>\n",
              "      <td>48</td>\n",
              "      <td>0.545</td>\n",
              "    </tr>\n",
              "    <tr>\n",
              "      <th>21</th>\n",
              "      <td>35</td>\n",
              "      <td>15</td>\n",
              "      <td>0.170</td>\n",
              "      <td>47</td>\n",
              "      <td>0.534</td>\n",
              "    </tr>\n",
              "    <tr>\n",
              "      <th>22</th>\n",
              "      <td>34</td>\n",
              "      <td>1</td>\n",
              "      <td>0.011</td>\n",
              "      <td>32</td>\n",
              "      <td>0.364</td>\n",
              "    </tr>\n",
              "    <tr>\n",
              "      <th>23</th>\n",
              "      <td>32</td>\n",
              "      <td>6</td>\n",
              "      <td>0.068</td>\n",
              "      <td>31</td>\n",
              "      <td>0.352</td>\n",
              "    </tr>\n",
              "    <tr>\n",
              "      <th>24</th>\n",
              "      <td>31</td>\n",
              "      <td>1</td>\n",
              "      <td>0.011</td>\n",
              "      <td>25</td>\n",
              "      <td>0.284</td>\n",
              "    </tr>\n",
              "    <tr>\n",
              "      <th>25</th>\n",
              "      <td>30</td>\n",
              "      <td>6</td>\n",
              "      <td>0.068</td>\n",
              "      <td>24</td>\n",
              "      <td>0.273</td>\n",
              "    </tr>\n",
              "    <tr>\n",
              "      <th>26</th>\n",
              "      <td>29</td>\n",
              "      <td>2</td>\n",
              "      <td>0.023</td>\n",
              "      <td>18</td>\n",
              "      <td>0.205</td>\n",
              "    </tr>\n",
              "    <tr>\n",
              "      <th>27</th>\n",
              "      <td>28</td>\n",
              "      <td>5</td>\n",
              "      <td>0.057</td>\n",
              "      <td>16</td>\n",
              "      <td>0.182</td>\n",
              "    </tr>\n",
              "    <tr>\n",
              "      <th>28</th>\n",
              "      <td>27</td>\n",
              "      <td>2</td>\n",
              "      <td>0.023</td>\n",
              "      <td>11</td>\n",
              "      <td>0.125</td>\n",
              "    </tr>\n",
              "    <tr>\n",
              "      <th>29</th>\n",
              "      <td>25</td>\n",
              "      <td>3</td>\n",
              "      <td>0.034</td>\n",
              "      <td>9</td>\n",
              "      <td>0.102</td>\n",
              "    </tr>\n",
              "    <tr>\n",
              "      <th>30</th>\n",
              "      <td>22</td>\n",
              "      <td>2</td>\n",
              "      <td>0.023</td>\n",
              "      <td>6</td>\n",
              "      <td>0.068</td>\n",
              "    </tr>\n",
              "    <tr>\n",
              "      <th>31</th>\n",
              "      <td>18</td>\n",
              "      <td>1</td>\n",
              "      <td>0.011</td>\n",
              "      <td>4</td>\n",
              "      <td>0.045</td>\n",
              "    </tr>\n",
              "    <tr>\n",
              "      <th>32</th>\n",
              "      <td>17</td>\n",
              "      <td>1</td>\n",
              "      <td>0.011</td>\n",
              "      <td>3</td>\n",
              "      <td>0.034</td>\n",
              "    </tr>\n",
              "    <tr>\n",
              "      <th>33</th>\n",
              "      <td>16</td>\n",
              "      <td>2</td>\n",
              "      <td>0.023</td>\n",
              "      <td>2</td>\n",
              "      <td>0.023</td>\n",
              "    </tr>\n",
              "  </tbody>\n",
              "</table>\n",
              "</div>\n",
              "    <div class=\"colab-df-buttons\">\n",
              "\n",
              "  <div class=\"colab-df-container\">\n",
              "    <button class=\"colab-df-convert\" onclick=\"convertToInteractive('df-ea236ce7-2974-48bd-8a7c-33087fd070b9')\"\n",
              "            title=\"Convert this dataframe to an interactive table.\"\n",
              "            style=\"display:none;\">\n",
              "\n",
              "  <svg xmlns=\"http://www.w3.org/2000/svg\" height=\"24px\" viewBox=\"0 -960 960 960\">\n",
              "    <path d=\"M120-120v-720h720v720H120Zm60-500h600v-160H180v160Zm220 220h160v-160H400v160Zm0 220h160v-160H400v160ZM180-400h160v-160H180v160Zm440 0h160v-160H620v160ZM180-180h160v-160H180v160Zm440 0h160v-160H620v160Z\"/>\n",
              "  </svg>\n",
              "    </button>\n",
              "\n",
              "  <style>\n",
              "    .colab-df-container {\n",
              "      display:flex;\n",
              "      gap: 12px;\n",
              "    }\n",
              "\n",
              "    .colab-df-convert {\n",
              "      background-color: #E8F0FE;\n",
              "      border: none;\n",
              "      border-radius: 50%;\n",
              "      cursor: pointer;\n",
              "      display: none;\n",
              "      fill: #1967D2;\n",
              "      height: 32px;\n",
              "      padding: 0 0 0 0;\n",
              "      width: 32px;\n",
              "    }\n",
              "\n",
              "    .colab-df-convert:hover {\n",
              "      background-color: #E2EBFA;\n",
              "      box-shadow: 0px 1px 2px rgba(60, 64, 67, 0.3), 0px 1px 3px 1px rgba(60, 64, 67, 0.15);\n",
              "      fill: #174EA6;\n",
              "    }\n",
              "\n",
              "    .colab-df-buttons div {\n",
              "      margin-bottom: 4px;\n",
              "    }\n",
              "\n",
              "    [theme=dark] .colab-df-convert {\n",
              "      background-color: #3B4455;\n",
              "      fill: #D2E3FC;\n",
              "    }\n",
              "\n",
              "    [theme=dark] .colab-df-convert:hover {\n",
              "      background-color: #434B5C;\n",
              "      box-shadow: 0px 1px 3px 1px rgba(0, 0, 0, 0.15);\n",
              "      filter: drop-shadow(0px 1px 2px rgba(0, 0, 0, 0.3));\n",
              "      fill: #FFFFFF;\n",
              "    }\n",
              "  </style>\n",
              "\n",
              "    <script>\n",
              "      const buttonEl =\n",
              "        document.querySelector('#df-ea236ce7-2974-48bd-8a7c-33087fd070b9 button.colab-df-convert');\n",
              "      buttonEl.style.display =\n",
              "        google.colab.kernel.accessAllowed ? 'block' : 'none';\n",
              "\n",
              "      async function convertToInteractive(key) {\n",
              "        const element = document.querySelector('#df-ea236ce7-2974-48bd-8a7c-33087fd070b9');\n",
              "        const dataTable =\n",
              "          await google.colab.kernel.invokeFunction('convertToInteractive',\n",
              "                                                    [key], {});\n",
              "        if (!dataTable) return;\n",
              "\n",
              "        const docLinkHtml = 'Like what you see? Visit the ' +\n",
              "          '<a target=\"_blank\" href=https://colab.research.google.com/notebooks/data_table.ipynb>data table notebook</a>'\n",
              "          + ' to learn more about interactive tables.';\n",
              "        element.innerHTML = '';\n",
              "        dataTable['output_type'] = 'display_data';\n",
              "        await google.colab.output.renderOutput(dataTable, element);\n",
              "        const docLink = document.createElement('div');\n",
              "        docLink.innerHTML = docLinkHtml;\n",
              "        element.appendChild(docLink);\n",
              "      }\n",
              "    </script>\n",
              "  </div>\n",
              "\n",
              "\n",
              "<div id=\"df-ba3e3cf6-75d1-4994-b16c-47515aba51d5\">\n",
              "  <button class=\"colab-df-quickchart\" onclick=\"quickchart('df-ba3e3cf6-75d1-4994-b16c-47515aba51d5')\"\n",
              "            title=\"Suggest charts\"\n",
              "            style=\"display:none;\">\n",
              "\n",
              "<svg xmlns=\"http://www.w3.org/2000/svg\" height=\"24px\"viewBox=\"0 0 24 24\"\n",
              "     width=\"24px\">\n",
              "    <g>\n",
              "        <path d=\"M19 3H5c-1.1 0-2 .9-2 2v14c0 1.1.9 2 2 2h14c1.1 0 2-.9 2-2V5c0-1.1-.9-2-2-2zM9 17H7v-7h2v7zm4 0h-2V7h2v10zm4 0h-2v-4h2v4z\"/>\n",
              "    </g>\n",
              "</svg>\n",
              "  </button>\n",
              "\n",
              "<style>\n",
              "  .colab-df-quickchart {\n",
              "      --bg-color: #E8F0FE;\n",
              "      --fill-color: #1967D2;\n",
              "      --hover-bg-color: #E2EBFA;\n",
              "      --hover-fill-color: #174EA6;\n",
              "      --disabled-fill-color: #AAA;\n",
              "      --disabled-bg-color: #DDD;\n",
              "  }\n",
              "\n",
              "  [theme=dark] .colab-df-quickchart {\n",
              "      --bg-color: #3B4455;\n",
              "      --fill-color: #D2E3FC;\n",
              "      --hover-bg-color: #434B5C;\n",
              "      --hover-fill-color: #FFFFFF;\n",
              "      --disabled-bg-color: #3B4455;\n",
              "      --disabled-fill-color: #666;\n",
              "  }\n",
              "\n",
              "  .colab-df-quickchart {\n",
              "    background-color: var(--bg-color);\n",
              "    border: none;\n",
              "    border-radius: 50%;\n",
              "    cursor: pointer;\n",
              "    display: none;\n",
              "    fill: var(--fill-color);\n",
              "    height: 32px;\n",
              "    padding: 0;\n",
              "    width: 32px;\n",
              "  }\n",
              "\n",
              "  .colab-df-quickchart:hover {\n",
              "    background-color: var(--hover-bg-color);\n",
              "    box-shadow: 0 1px 2px rgba(60, 64, 67, 0.3), 0 1px 3px 1px rgba(60, 64, 67, 0.15);\n",
              "    fill: var(--button-hover-fill-color);\n",
              "  }\n",
              "\n",
              "  .colab-df-quickchart-complete:disabled,\n",
              "  .colab-df-quickchart-complete:disabled:hover {\n",
              "    background-color: var(--disabled-bg-color);\n",
              "    fill: var(--disabled-fill-color);\n",
              "    box-shadow: none;\n",
              "  }\n",
              "\n",
              "  .colab-df-spinner {\n",
              "    border: 2px solid var(--fill-color);\n",
              "    border-color: transparent;\n",
              "    border-bottom-color: var(--fill-color);\n",
              "    animation:\n",
              "      spin 1s steps(1) infinite;\n",
              "  }\n",
              "\n",
              "  @keyframes spin {\n",
              "    0% {\n",
              "      border-color: transparent;\n",
              "      border-bottom-color: var(--fill-color);\n",
              "      border-left-color: var(--fill-color);\n",
              "    }\n",
              "    20% {\n",
              "      border-color: transparent;\n",
              "      border-left-color: var(--fill-color);\n",
              "      border-top-color: var(--fill-color);\n",
              "    }\n",
              "    30% {\n",
              "      border-color: transparent;\n",
              "      border-left-color: var(--fill-color);\n",
              "      border-top-color: var(--fill-color);\n",
              "      border-right-color: var(--fill-color);\n",
              "    }\n",
              "    40% {\n",
              "      border-color: transparent;\n",
              "      border-right-color: var(--fill-color);\n",
              "      border-top-color: var(--fill-color);\n",
              "    }\n",
              "    60% {\n",
              "      border-color: transparent;\n",
              "      border-right-color: var(--fill-color);\n",
              "    }\n",
              "    80% {\n",
              "      border-color: transparent;\n",
              "      border-right-color: var(--fill-color);\n",
              "      border-bottom-color: var(--fill-color);\n",
              "    }\n",
              "    90% {\n",
              "      border-color: transparent;\n",
              "      border-bottom-color: var(--fill-color);\n",
              "    }\n",
              "  }\n",
              "</style>\n",
              "\n",
              "  <script>\n",
              "    async function quickchart(key) {\n",
              "      const quickchartButtonEl =\n",
              "        document.querySelector('#' + key + ' button');\n",
              "      quickchartButtonEl.disabled = true;  // To prevent multiple clicks.\n",
              "      quickchartButtonEl.classList.add('colab-df-spinner');\n",
              "      try {\n",
              "        const charts = await google.colab.kernel.invokeFunction(\n",
              "            'suggestCharts', [key], {});\n",
              "      } catch (error) {\n",
              "        console.error('Error during call to suggestCharts:', error);\n",
              "      }\n",
              "      quickchartButtonEl.classList.remove('colab-df-spinner');\n",
              "      quickchartButtonEl.classList.add('colab-df-quickchart-complete');\n",
              "    }\n",
              "    (() => {\n",
              "      let quickchartButtonEl =\n",
              "        document.querySelector('#df-ba3e3cf6-75d1-4994-b16c-47515aba51d5 button');\n",
              "      quickchartButtonEl.style.display =\n",
              "        google.colab.kernel.accessAllowed ? 'block' : 'none';\n",
              "    })();\n",
              "  </script>\n",
              "</div>\n",
              "\n",
              "  <div id=\"id_3a48bc03-ceff-4d61-a1f9-d85732374891\">\n",
              "    <style>\n",
              "      .colab-df-generate {\n",
              "        background-color: #E8F0FE;\n",
              "        border: none;\n",
              "        border-radius: 50%;\n",
              "        cursor: pointer;\n",
              "        display: none;\n",
              "        fill: #1967D2;\n",
              "        height: 32px;\n",
              "        padding: 0 0 0 0;\n",
              "        width: 32px;\n",
              "      }\n",
              "\n",
              "      .colab-df-generate:hover {\n",
              "        background-color: #E2EBFA;\n",
              "        box-shadow: 0px 1px 2px rgba(60, 64, 67, 0.3), 0px 1px 3px 1px rgba(60, 64, 67, 0.15);\n",
              "        fill: #174EA6;\n",
              "      }\n",
              "\n",
              "      [theme=dark] .colab-df-generate {\n",
              "        background-color: #3B4455;\n",
              "        fill: #D2E3FC;\n",
              "      }\n",
              "\n",
              "      [theme=dark] .colab-df-generate:hover {\n",
              "        background-color: #434B5C;\n",
              "        box-shadow: 0px 1px 3px 1px rgba(0, 0, 0, 0.15);\n",
              "        filter: drop-shadow(0px 1px 2px rgba(0, 0, 0, 0.3));\n",
              "        fill: #FFFFFF;\n",
              "      }\n",
              "    </style>\n",
              "    <button class=\"colab-df-generate\" onclick=\"generateWithVariable('df_frecuencias')\"\n",
              "            title=\"Generate code using this dataframe.\"\n",
              "            style=\"display:none;\">\n",
              "\n",
              "  <svg xmlns=\"http://www.w3.org/2000/svg\" height=\"24px\"viewBox=\"0 0 24 24\"\n",
              "       width=\"24px\">\n",
              "    <path d=\"M7,19H8.4L18.45,9,17,7.55,7,17.6ZM5,21V16.75L18.45,3.32a2,2,0,0,1,2.83,0l1.4,1.43a1.91,1.91,0,0,1,.58,1.4,1.91,1.91,0,0,1-.58,1.4L9.25,21ZM18.45,9,17,7.55Zm-12,3A5.31,5.31,0,0,0,4.9,8.1,5.31,5.31,0,0,0,1,6.5,5.31,5.31,0,0,0,4.9,4.9,5.31,5.31,0,0,0,6.5,1,5.31,5.31,0,0,0,8.1,4.9,5.31,5.31,0,0,0,12,6.5,5.46,5.46,0,0,0,6.5,12Z\"/>\n",
              "  </svg>\n",
              "    </button>\n",
              "    <script>\n",
              "      (() => {\n",
              "      const buttonEl =\n",
              "        document.querySelector('#id_3a48bc03-ceff-4d61-a1f9-d85732374891 button.colab-df-generate');\n",
              "      buttonEl.style.display =\n",
              "        google.colab.kernel.accessAllowed ? 'block' : 'none';\n",
              "\n",
              "      buttonEl.onclick = () => {\n",
              "        google.colab.notebook.generateWithVariable('df_frecuencias');\n",
              "      }\n",
              "      })();\n",
              "    </script>\n",
              "  </div>\n",
              "\n",
              "    </div>\n",
              "  </div>\n"
            ],
            "application/vnd.google.colaboratory.intrinsic+json": {
              "type": "dataframe",
              "variable_name": "df_frecuencias",
              "summary": "{\n  \"name\": \"df_frecuencias\",\n  \"rows\": 34,\n  \"fields\": [\n    {\n      \"column\": \"Datos\",\n      \"properties\": {\n        \"dtype\": \"number\",\n        \"std\": 14,\n        \"min\": 16,\n        \"max\": 68,\n        \"num_unique_values\": 34,\n        \"samples\": [\n          44,\n          39,\n          28\n        ],\n        \"semantic_type\": \"\",\n        \"description\": \"\"\n      }\n    },\n    {\n      \"column\": \"Frecuencias\",\n      \"properties\": {\n        \"dtype\": \"number\",\n        \"std\": 2,\n        \"min\": 1,\n        \"max\": 15,\n        \"num_unique_values\": 7,\n        \"samples\": [\n          1,\n          2,\n          6\n        ],\n        \"semantic_type\": \"\",\n        \"description\": \"\"\n      }\n    },\n    {\n      \"column\": \"Relativa\",\n      \"properties\": {\n        \"dtype\": \"number\",\n        \"std\": 0.03233322766765174,\n        \"min\": 0.011,\n        \"max\": 0.17,\n        \"num_unique_values\": 7,\n        \"samples\": [\n          0.011,\n          0.023,\n          0.068\n        ],\n        \"semantic_type\": \"\",\n        \"description\": \"\"\n      }\n    },\n    {\n      \"column\": \"Acumulativa\",\n      \"properties\": {\n        \"dtype\": \"number\",\n        \"std\": 29,\n        \"min\": 2,\n        \"max\": 88,\n        \"num_unique_values\": 34,\n        \"samples\": [\n          63,\n          50,\n          16\n        ],\n        \"semantic_type\": \"\",\n        \"description\": \"\"\n      }\n    },\n    {\n      \"column\": \"Relativa Acumulada\",\n      \"properties\": {\n        \"dtype\": \"number\",\n        \"std\": 0.3381707594793567,\n        \"min\": 0.023,\n        \"max\": 1.0,\n        \"num_unique_values\": 34,\n        \"samples\": [\n          0.716,\n          0.568,\n          0.182\n        ],\n        \"semantic_type\": \"\",\n        \"description\": \"\"\n      }\n    }\n  ]\n}"
            }
          },
          "metadata": {},
          "execution_count": 10
        }
      ]
    },
    {
      "cell_type": "code",
      "source": [
        "df_frecuencias.to_excel('Frecuencias.xlsx')"
      ],
      "metadata": {
        "id": "9uctTvs5c4RT"
      },
      "execution_count": null,
      "outputs": []
    },
    {
      "cell_type": "markdown",
      "source": [
        "### Frecuencias grupales"
      ],
      "metadata": {
        "id": "bjupoGtlod5y"
      }
    },
    {
      "cell_type": "code",
      "source": [
        "len_rango = 5\n",
        "min_data = min(df_frecuencias['Datos'])\n",
        "max_data = max(df_frecuencias['Datos'])"
      ],
      "metadata": {
        "id": "832NAVAgc4TE"
      },
      "execution_count": null,
      "outputs": []
    },
    {
      "cell_type": "markdown",
      "source": [],
      "metadata": {
        "id": "v9-LTp43-35Q"
      }
    },
    {
      "cell_type": "code",
      "source": [
        "list_rangos = [[x, x+len_rango] for x in range(min_data, max_data + 1, len_rango+1)]\n",
        "if list_rangos[-1][-1] > max_data:  list_rangos[-1][-1] = max_data\n",
        "list_rangos.sort(reverse=True)"
      ],
      "metadata": {
        "id": "vBUgiNL-BKWl"
      },
      "execution_count": null,
      "outputs": []
    },
    {
      "cell_type": "code",
      "source": [
        "# Rangos\n",
        "list_data = [str(x[0])+' - '+str(x[1]) for x in list_rangos]\n",
        "# Frecuencias\n",
        "list_frecs = [sum(df_frecuencias[(df_frecuencias['Datos']>=y[0])&(df_frecuencias['Datos']<=y[1])]['Frecuencias']) for y in list_rangos]\n",
        "# Relativa\n",
        "list_relativa = [round(z/len_data,3) for z in list_frecs]\n",
        "# Acumulada\n",
        "list_acum = [sum(list_frecs[m:]) for m in range(len(list_frecs))]\n",
        "# Relativa acumulada\n",
        "list_relat_acum = [round(k/len_data,3) for k in list_acum]"
      ],
      "metadata": {
        "id": "TvcuVB85BKYU"
      },
      "execution_count": null,
      "outputs": []
    },
    {
      "cell_type": "code",
      "source": [
        "df_frecs_agrup = pd.DataFrame()\n",
        "df_frecs_agrup['Rangos'] = list_data\n",
        "df_frecs_agrup['Frecuencias'] = list_frecs\n",
        "df_frecs_agrup['Relativa'] = list_relativa\n",
        "df_frecs_agrup['Acumulativa'] = list_acum\n",
        "df_frecs_agrup['Relativa Acumulada'] = list_relat_acum"
      ],
      "metadata": {
        "id": "ndNOI2PhBKaD"
      },
      "execution_count": null,
      "outputs": []
    },
    {
      "cell_type": "code",
      "source": [
        "df_frecs_agrup"
      ],
      "metadata": {
        "id": "KOdR1RYkBKbb",
        "colab": {
          "base_uri": "https://localhost:8080/",
          "height": 331
        },
        "outputId": "c517cd50-1a30-4b0b-8d8a-cdc40be17064"
      },
      "execution_count": null,
      "outputs": [
        {
          "output_type": "execute_result",
          "data": {
            "text/plain": [
              "    Rangos  Frecuencias  Relativa  Acumulativa  Relativa Acumulada\n",
              "0  64 - 68            2     0.023           88               1.000\n",
              "1  58 - 63            6     0.068           86               0.977\n",
              "2  52 - 57            6     0.068           80               0.909\n",
              "3  46 - 51           11     0.125           74               0.841\n",
              "4  40 - 45           13     0.148           63               0.716\n",
              "5  34 - 39           19     0.216           50               0.568\n",
              "6  28 - 33           20     0.227           31               0.352\n",
              "7  22 - 27            7     0.080           11               0.125\n",
              "8  16 - 21            4     0.045            4               0.045"
            ],
            "text/html": [
              "\n",
              "  <div id=\"df-3499da27-1e1f-486b-bbcd-f16fb2a7d24e\" class=\"colab-df-container\">\n",
              "    <div>\n",
              "<style scoped>\n",
              "    .dataframe tbody tr th:only-of-type {\n",
              "        vertical-align: middle;\n",
              "    }\n",
              "\n",
              "    .dataframe tbody tr th {\n",
              "        vertical-align: top;\n",
              "    }\n",
              "\n",
              "    .dataframe thead th {\n",
              "        text-align: right;\n",
              "    }\n",
              "</style>\n",
              "<table border=\"1\" class=\"dataframe\">\n",
              "  <thead>\n",
              "    <tr style=\"text-align: right;\">\n",
              "      <th></th>\n",
              "      <th>Rangos</th>\n",
              "      <th>Frecuencias</th>\n",
              "      <th>Relativa</th>\n",
              "      <th>Acumulativa</th>\n",
              "      <th>Relativa Acumulada</th>\n",
              "    </tr>\n",
              "  </thead>\n",
              "  <tbody>\n",
              "    <tr>\n",
              "      <th>0</th>\n",
              "      <td>64 - 68</td>\n",
              "      <td>2</td>\n",
              "      <td>0.023</td>\n",
              "      <td>88</td>\n",
              "      <td>1.000</td>\n",
              "    </tr>\n",
              "    <tr>\n",
              "      <th>1</th>\n",
              "      <td>58 - 63</td>\n",
              "      <td>6</td>\n",
              "      <td>0.068</td>\n",
              "      <td>86</td>\n",
              "      <td>0.977</td>\n",
              "    </tr>\n",
              "    <tr>\n",
              "      <th>2</th>\n",
              "      <td>52 - 57</td>\n",
              "      <td>6</td>\n",
              "      <td>0.068</td>\n",
              "      <td>80</td>\n",
              "      <td>0.909</td>\n",
              "    </tr>\n",
              "    <tr>\n",
              "      <th>3</th>\n",
              "      <td>46 - 51</td>\n",
              "      <td>11</td>\n",
              "      <td>0.125</td>\n",
              "      <td>74</td>\n",
              "      <td>0.841</td>\n",
              "    </tr>\n",
              "    <tr>\n",
              "      <th>4</th>\n",
              "      <td>40 - 45</td>\n",
              "      <td>13</td>\n",
              "      <td>0.148</td>\n",
              "      <td>63</td>\n",
              "      <td>0.716</td>\n",
              "    </tr>\n",
              "    <tr>\n",
              "      <th>5</th>\n",
              "      <td>34 - 39</td>\n",
              "      <td>19</td>\n",
              "      <td>0.216</td>\n",
              "      <td>50</td>\n",
              "      <td>0.568</td>\n",
              "    </tr>\n",
              "    <tr>\n",
              "      <th>6</th>\n",
              "      <td>28 - 33</td>\n",
              "      <td>20</td>\n",
              "      <td>0.227</td>\n",
              "      <td>31</td>\n",
              "      <td>0.352</td>\n",
              "    </tr>\n",
              "    <tr>\n",
              "      <th>7</th>\n",
              "      <td>22 - 27</td>\n",
              "      <td>7</td>\n",
              "      <td>0.080</td>\n",
              "      <td>11</td>\n",
              "      <td>0.125</td>\n",
              "    </tr>\n",
              "    <tr>\n",
              "      <th>8</th>\n",
              "      <td>16 - 21</td>\n",
              "      <td>4</td>\n",
              "      <td>0.045</td>\n",
              "      <td>4</td>\n",
              "      <td>0.045</td>\n",
              "    </tr>\n",
              "  </tbody>\n",
              "</table>\n",
              "</div>\n",
              "    <div class=\"colab-df-buttons\">\n",
              "\n",
              "  <div class=\"colab-df-container\">\n",
              "    <button class=\"colab-df-convert\" onclick=\"convertToInteractive('df-3499da27-1e1f-486b-bbcd-f16fb2a7d24e')\"\n",
              "            title=\"Convert this dataframe to an interactive table.\"\n",
              "            style=\"display:none;\">\n",
              "\n",
              "  <svg xmlns=\"http://www.w3.org/2000/svg\" height=\"24px\" viewBox=\"0 -960 960 960\">\n",
              "    <path d=\"M120-120v-720h720v720H120Zm60-500h600v-160H180v160Zm220 220h160v-160H400v160Zm0 220h160v-160H400v160ZM180-400h160v-160H180v160Zm440 0h160v-160H620v160ZM180-180h160v-160H180v160Zm440 0h160v-160H620v160Z\"/>\n",
              "  </svg>\n",
              "    </button>\n",
              "\n",
              "  <style>\n",
              "    .colab-df-container {\n",
              "      display:flex;\n",
              "      gap: 12px;\n",
              "    }\n",
              "\n",
              "    .colab-df-convert {\n",
              "      background-color: #E8F0FE;\n",
              "      border: none;\n",
              "      border-radius: 50%;\n",
              "      cursor: pointer;\n",
              "      display: none;\n",
              "      fill: #1967D2;\n",
              "      height: 32px;\n",
              "      padding: 0 0 0 0;\n",
              "      width: 32px;\n",
              "    }\n",
              "\n",
              "    .colab-df-convert:hover {\n",
              "      background-color: #E2EBFA;\n",
              "      box-shadow: 0px 1px 2px rgba(60, 64, 67, 0.3), 0px 1px 3px 1px rgba(60, 64, 67, 0.15);\n",
              "      fill: #174EA6;\n",
              "    }\n",
              "\n",
              "    .colab-df-buttons div {\n",
              "      margin-bottom: 4px;\n",
              "    }\n",
              "\n",
              "    [theme=dark] .colab-df-convert {\n",
              "      background-color: #3B4455;\n",
              "      fill: #D2E3FC;\n",
              "    }\n",
              "\n",
              "    [theme=dark] .colab-df-convert:hover {\n",
              "      background-color: #434B5C;\n",
              "      box-shadow: 0px 1px 3px 1px rgba(0, 0, 0, 0.15);\n",
              "      filter: drop-shadow(0px 1px 2px rgba(0, 0, 0, 0.3));\n",
              "      fill: #FFFFFF;\n",
              "    }\n",
              "  </style>\n",
              "\n",
              "    <script>\n",
              "      const buttonEl =\n",
              "        document.querySelector('#df-3499da27-1e1f-486b-bbcd-f16fb2a7d24e button.colab-df-convert');\n",
              "      buttonEl.style.display =\n",
              "        google.colab.kernel.accessAllowed ? 'block' : 'none';\n",
              "\n",
              "      async function convertToInteractive(key) {\n",
              "        const element = document.querySelector('#df-3499da27-1e1f-486b-bbcd-f16fb2a7d24e');\n",
              "        const dataTable =\n",
              "          await google.colab.kernel.invokeFunction('convertToInteractive',\n",
              "                                                    [key], {});\n",
              "        if (!dataTable) return;\n",
              "\n",
              "        const docLinkHtml = 'Like what you see? Visit the ' +\n",
              "          '<a target=\"_blank\" href=https://colab.research.google.com/notebooks/data_table.ipynb>data table notebook</a>'\n",
              "          + ' to learn more about interactive tables.';\n",
              "        element.innerHTML = '';\n",
              "        dataTable['output_type'] = 'display_data';\n",
              "        await google.colab.output.renderOutput(dataTable, element);\n",
              "        const docLink = document.createElement('div');\n",
              "        docLink.innerHTML = docLinkHtml;\n",
              "        element.appendChild(docLink);\n",
              "      }\n",
              "    </script>\n",
              "  </div>\n",
              "\n",
              "\n",
              "<div id=\"df-d3e191f3-252d-4583-b433-b1295d090287\">\n",
              "  <button class=\"colab-df-quickchart\" onclick=\"quickchart('df-d3e191f3-252d-4583-b433-b1295d090287')\"\n",
              "            title=\"Suggest charts\"\n",
              "            style=\"display:none;\">\n",
              "\n",
              "<svg xmlns=\"http://www.w3.org/2000/svg\" height=\"24px\"viewBox=\"0 0 24 24\"\n",
              "     width=\"24px\">\n",
              "    <g>\n",
              "        <path d=\"M19 3H5c-1.1 0-2 .9-2 2v14c0 1.1.9 2 2 2h14c1.1 0 2-.9 2-2V5c0-1.1-.9-2-2-2zM9 17H7v-7h2v7zm4 0h-2V7h2v10zm4 0h-2v-4h2v4z\"/>\n",
              "    </g>\n",
              "</svg>\n",
              "  </button>\n",
              "\n",
              "<style>\n",
              "  .colab-df-quickchart {\n",
              "      --bg-color: #E8F0FE;\n",
              "      --fill-color: #1967D2;\n",
              "      --hover-bg-color: #E2EBFA;\n",
              "      --hover-fill-color: #174EA6;\n",
              "      --disabled-fill-color: #AAA;\n",
              "      --disabled-bg-color: #DDD;\n",
              "  }\n",
              "\n",
              "  [theme=dark] .colab-df-quickchart {\n",
              "      --bg-color: #3B4455;\n",
              "      --fill-color: #D2E3FC;\n",
              "      --hover-bg-color: #434B5C;\n",
              "      --hover-fill-color: #FFFFFF;\n",
              "      --disabled-bg-color: #3B4455;\n",
              "      --disabled-fill-color: #666;\n",
              "  }\n",
              "\n",
              "  .colab-df-quickchart {\n",
              "    background-color: var(--bg-color);\n",
              "    border: none;\n",
              "    border-radius: 50%;\n",
              "    cursor: pointer;\n",
              "    display: none;\n",
              "    fill: var(--fill-color);\n",
              "    height: 32px;\n",
              "    padding: 0;\n",
              "    width: 32px;\n",
              "  }\n",
              "\n",
              "  .colab-df-quickchart:hover {\n",
              "    background-color: var(--hover-bg-color);\n",
              "    box-shadow: 0 1px 2px rgba(60, 64, 67, 0.3), 0 1px 3px 1px rgba(60, 64, 67, 0.15);\n",
              "    fill: var(--button-hover-fill-color);\n",
              "  }\n",
              "\n",
              "  .colab-df-quickchart-complete:disabled,\n",
              "  .colab-df-quickchart-complete:disabled:hover {\n",
              "    background-color: var(--disabled-bg-color);\n",
              "    fill: var(--disabled-fill-color);\n",
              "    box-shadow: none;\n",
              "  }\n",
              "\n",
              "  .colab-df-spinner {\n",
              "    border: 2px solid var(--fill-color);\n",
              "    border-color: transparent;\n",
              "    border-bottom-color: var(--fill-color);\n",
              "    animation:\n",
              "      spin 1s steps(1) infinite;\n",
              "  }\n",
              "\n",
              "  @keyframes spin {\n",
              "    0% {\n",
              "      border-color: transparent;\n",
              "      border-bottom-color: var(--fill-color);\n",
              "      border-left-color: var(--fill-color);\n",
              "    }\n",
              "    20% {\n",
              "      border-color: transparent;\n",
              "      border-left-color: var(--fill-color);\n",
              "      border-top-color: var(--fill-color);\n",
              "    }\n",
              "    30% {\n",
              "      border-color: transparent;\n",
              "      border-left-color: var(--fill-color);\n",
              "      border-top-color: var(--fill-color);\n",
              "      border-right-color: var(--fill-color);\n",
              "    }\n",
              "    40% {\n",
              "      border-color: transparent;\n",
              "      border-right-color: var(--fill-color);\n",
              "      border-top-color: var(--fill-color);\n",
              "    }\n",
              "    60% {\n",
              "      border-color: transparent;\n",
              "      border-right-color: var(--fill-color);\n",
              "    }\n",
              "    80% {\n",
              "      border-color: transparent;\n",
              "      border-right-color: var(--fill-color);\n",
              "      border-bottom-color: var(--fill-color);\n",
              "    }\n",
              "    90% {\n",
              "      border-color: transparent;\n",
              "      border-bottom-color: var(--fill-color);\n",
              "    }\n",
              "  }\n",
              "</style>\n",
              "\n",
              "  <script>\n",
              "    async function quickchart(key) {\n",
              "      const quickchartButtonEl =\n",
              "        document.querySelector('#' + key + ' button');\n",
              "      quickchartButtonEl.disabled = true;  // To prevent multiple clicks.\n",
              "      quickchartButtonEl.classList.add('colab-df-spinner');\n",
              "      try {\n",
              "        const charts = await google.colab.kernel.invokeFunction(\n",
              "            'suggestCharts', [key], {});\n",
              "      } catch (error) {\n",
              "        console.error('Error during call to suggestCharts:', error);\n",
              "      }\n",
              "      quickchartButtonEl.classList.remove('colab-df-spinner');\n",
              "      quickchartButtonEl.classList.add('colab-df-quickchart-complete');\n",
              "    }\n",
              "    (() => {\n",
              "      let quickchartButtonEl =\n",
              "        document.querySelector('#df-d3e191f3-252d-4583-b433-b1295d090287 button');\n",
              "      quickchartButtonEl.style.display =\n",
              "        google.colab.kernel.accessAllowed ? 'block' : 'none';\n",
              "    })();\n",
              "  </script>\n",
              "</div>\n",
              "\n",
              "  <div id=\"id_c8a23fc2-0bc0-4c0d-8e31-4a4d5219ec84\">\n",
              "    <style>\n",
              "      .colab-df-generate {\n",
              "        background-color: #E8F0FE;\n",
              "        border: none;\n",
              "        border-radius: 50%;\n",
              "        cursor: pointer;\n",
              "        display: none;\n",
              "        fill: #1967D2;\n",
              "        height: 32px;\n",
              "        padding: 0 0 0 0;\n",
              "        width: 32px;\n",
              "      }\n",
              "\n",
              "      .colab-df-generate:hover {\n",
              "        background-color: #E2EBFA;\n",
              "        box-shadow: 0px 1px 2px rgba(60, 64, 67, 0.3), 0px 1px 3px 1px rgba(60, 64, 67, 0.15);\n",
              "        fill: #174EA6;\n",
              "      }\n",
              "\n",
              "      [theme=dark] .colab-df-generate {\n",
              "        background-color: #3B4455;\n",
              "        fill: #D2E3FC;\n",
              "      }\n",
              "\n",
              "      [theme=dark] .colab-df-generate:hover {\n",
              "        background-color: #434B5C;\n",
              "        box-shadow: 0px 1px 3px 1px rgba(0, 0, 0, 0.15);\n",
              "        filter: drop-shadow(0px 1px 2px rgba(0, 0, 0, 0.3));\n",
              "        fill: #FFFFFF;\n",
              "      }\n",
              "    </style>\n",
              "    <button class=\"colab-df-generate\" onclick=\"generateWithVariable('df_frecs_agrup')\"\n",
              "            title=\"Generate code using this dataframe.\"\n",
              "            style=\"display:none;\">\n",
              "\n",
              "  <svg xmlns=\"http://www.w3.org/2000/svg\" height=\"24px\"viewBox=\"0 0 24 24\"\n",
              "       width=\"24px\">\n",
              "    <path d=\"M7,19H8.4L18.45,9,17,7.55,7,17.6ZM5,21V16.75L18.45,3.32a2,2,0,0,1,2.83,0l1.4,1.43a1.91,1.91,0,0,1,.58,1.4,1.91,1.91,0,0,1-.58,1.4L9.25,21ZM18.45,9,17,7.55Zm-12,3A5.31,5.31,0,0,0,4.9,8.1,5.31,5.31,0,0,0,1,6.5,5.31,5.31,0,0,0,4.9,4.9,5.31,5.31,0,0,0,6.5,1,5.31,5.31,0,0,0,8.1,4.9,5.31,5.31,0,0,0,12,6.5,5.46,5.46,0,0,0,6.5,12Z\"/>\n",
              "  </svg>\n",
              "    </button>\n",
              "    <script>\n",
              "      (() => {\n",
              "      const buttonEl =\n",
              "        document.querySelector('#id_c8a23fc2-0bc0-4c0d-8e31-4a4d5219ec84 button.colab-df-generate');\n",
              "      buttonEl.style.display =\n",
              "        google.colab.kernel.accessAllowed ? 'block' : 'none';\n",
              "\n",
              "      buttonEl.onclick = () => {\n",
              "        google.colab.notebook.generateWithVariable('df_frecs_agrup');\n",
              "      }\n",
              "      })();\n",
              "    </script>\n",
              "  </div>\n",
              "\n",
              "    </div>\n",
              "  </div>\n"
            ],
            "application/vnd.google.colaboratory.intrinsic+json": {
              "type": "dataframe",
              "variable_name": "df_frecs_agrup",
              "summary": "{\n  \"name\": \"df_frecs_agrup\",\n  \"rows\": 9,\n  \"fields\": [\n    {\n      \"column\": \"Rangos\",\n      \"properties\": {\n        \"dtype\": \"string\",\n        \"num_unique_values\": 9,\n        \"samples\": [\n          \"22 - 27\",\n          \"58 - 63\",\n          \"34 - 39\"\n        ],\n        \"semantic_type\": \"\",\n        \"description\": \"\"\n      }\n    },\n    {\n      \"column\": \"Frecuencias\",\n      \"properties\": {\n        \"dtype\": \"number\",\n        \"std\": 6,\n        \"min\": 2,\n        \"max\": 20,\n        \"num_unique_values\": 8,\n        \"samples\": [\n          6,\n          20,\n          2\n        ],\n        \"semantic_type\": \"\",\n        \"description\": \"\"\n      }\n    },\n    {\n      \"column\": \"Relativa\",\n      \"properties\": {\n        \"dtype\": \"number\",\n        \"std\": 0.07314787154190551,\n        \"min\": 0.023,\n        \"max\": 0.227,\n        \"num_unique_values\": 8,\n        \"samples\": [\n          0.068,\n          0.227,\n          0.023\n        ],\n        \"semantic_type\": \"\",\n        \"description\": \"\"\n      }\n    },\n    {\n      \"column\": \"Acumulativa\",\n      \"properties\": {\n        \"dtype\": \"number\",\n        \"std\": 32,\n        \"min\": 4,\n        \"max\": 88,\n        \"num_unique_values\": 9,\n        \"samples\": [\n          11,\n          86,\n          50\n        ],\n        \"semantic_type\": \"\",\n        \"description\": \"\"\n      }\n    },\n    {\n      \"column\": \"Relativa Acumulada\",\n      \"properties\": {\n        \"dtype\": \"number\",\n        \"std\": 0.36458187618756427,\n        \"min\": 0.045,\n        \"max\": 1.0,\n        \"num_unique_values\": 9,\n        \"samples\": [\n          0.125,\n          0.977,\n          0.568\n        ],\n        \"semantic_type\": \"\",\n        \"description\": \"\"\n      }\n    }\n  ]\n}"
            }
          },
          "metadata": {},
          "execution_count": 34
        }
      ]
    },
    {
      "cell_type": "code",
      "source": [],
      "metadata": {
        "id": "tXgTcK14BKdd"
      },
      "execution_count": null,
      "outputs": []
    },
    {
      "cell_type": "code",
      "source": [],
      "metadata": {
        "id": "0NhbAXhzBKew"
      },
      "execution_count": null,
      "outputs": []
    },
    {
      "cell_type": "code",
      "source": [],
      "metadata": {
        "id": "08jswbgvV1ri"
      },
      "execution_count": null,
      "outputs": []
    },
    {
      "cell_type": "code",
      "source": [],
      "metadata": {
        "id": "OV1ycAYLV1tM"
      },
      "execution_count": null,
      "outputs": []
    }
  ]
}